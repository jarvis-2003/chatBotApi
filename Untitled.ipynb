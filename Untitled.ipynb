{
 "cells": [
  {
   "cell_type": "code",
   "execution_count": 1,
   "id": "b1394334-3838-4665-bb8e-4b10d38c921a",
   "metadata": {},
   "outputs": [],
   "source": [
    "import spacy\n",
    "import pandas as pd\n",
    "import json\n",
    "from spacy.pipeline import EntityRuler"
   ]
  },
  {
   "cell_type": "code",
   "execution_count": 2,
   "id": "83d1dc94-6bc1-447f-93c4-33d7afaf04d9",
   "metadata": {},
   "outputs": [],
   "source": [
    "df = pd.read_csv(\"Indian Cities Geo Data.csv\")"
   ]
  },
  {
   "cell_type": "code",
   "execution_count": 3,
   "id": "80e39d77-32bb-44b5-b494-8eaa85a304e3",
   "metadata": {},
   "outputs": [],
   "source": [
    "df[\"Location_cleaned\"] = df[\"Location\"].str.replace(\" Latitude and Longitude\", \"\", regex=False)"
   ]
  },
  {
   "cell_type": "code",
   "execution_count": 4,
   "id": "8877d70c-9f60-4552-a39a-04a4330e1124",
   "metadata": {},
   "outputs": [],
   "source": [
    "df[\"Location_cleaned\"] = df[\"Location_cleaned\"].str.strip()"
   ]
  },
  {
   "cell_type": "code",
   "execution_count": 5,
   "id": "5e11a706-9acd-4d4d-882f-7e36da89e51d",
   "metadata": {},
   "outputs": [],
   "source": [
    "patterns = []\n",
    "for x in df[\"Location_cleaned\"]:\n",
    "    patterns.append({\"label\": \"GPE\", \"pattern\": x})"
   ]
  },
  {
   "cell_type": "code",
   "execution_count": 48,
   "id": "631cc4f7-f365-4812-acff-6e1091dfbe8d",
   "metadata": {},
   "outputs": [],
   "source": [
    "with open(\"indian_locations.json\", \"w\", encoding=\"utf-8\") as f:\n",
    "    json.dump(patterns, f, ensure_ascii=False, indent=4)"
   ]
  },
  {
   "cell_type": "code",
   "execution_count": 6,
   "id": "e3487ba6-907d-48af-be80-d71d2b767b1a",
   "metadata": {},
   "outputs": [],
   "source": [
    "nlp = spacy.load(\"en_core_web_sm\")\n"
   ]
  },
  {
   "cell_type": "code",
   "execution_count": 7,
   "id": "47c0898c-afb0-4e6a-8509-acabd2dba56c",
   "metadata": {},
   "outputs": [],
   "source": [
    "ruler = nlp.add_pipe(\"entity_ruler\", before=\"ner\")"
   ]
  },
  {
   "cell_type": "code",
   "execution_count": 51,
   "id": "4d10f913-18f0-4dd8-833a-0b567c282c32",
   "metadata": {},
   "outputs": [],
   "source": [
    "with open(\"indian_locations.json\", \"r\", encoding=\"utf-8\") as f:\n",
    "    locations = json.load(f)"
   ]
  },
  {
   "cell_type": "code",
   "execution_count": null,
   "id": "91c85955-44a2-4663-9ed2-997cab6d8837",
   "metadata": {},
   "outputs": [],
   "source": []
  },
  {
   "cell_type": "code",
   "execution_count": 8,
   "id": "aad6aad0-c59c-40bd-9cd0-6046d7c60d29",
   "metadata": {},
   "outputs": [],
   "source": [
    "ruler.add_patterns(patterns)"
   ]
  },
  {
   "cell_type": "code",
   "execution_count": 9,
   "id": "ee905b16-6732-4fb6-90dc-a5842902e5dd",
   "metadata": {},
   "outputs": [],
   "source": [
    "states = [\n",
    "    # States\n",
    "    {\"label\": \"GPE\", \"pattern\": \"Andhra Pradesh\"},\n",
    "    {\"label\": \"GPE\", \"pattern\": \"Arunachal Pradesh\"},\n",
    "    {\"label\": \"GPE\", \"pattern\": \"Assam\"},\n",
    "    {\"label\": \"GPE\", \"pattern\": \"Bihar\"},\n",
    "    {\"label\": \"GPE\", \"pattern\": \"Chhattisgarh\"},\n",
    "    {\"label\": \"GPE\", \"pattern\": \"Goa\"},\n",
    "    {\"label\": \"GPE\", \"pattern\": \"Gujarat\"},\n",
    "    {\"label\": \"GPE\", \"pattern\": \"Haryana\"},\n",
    "    {\"label\": \"GPE\", \"pattern\": \"Himachal Pradesh\"},\n",
    "    {\"label\": \"GPE\", \"pattern\": \"Jharkhand\"},\n",
    "    {\"label\": \"GPE\", \"pattern\": \"Karnataka\"},\n",
    "    {\"label\": \"GPE\", \"pattern\": \"Kerala\"},\n",
    "    {\"label\": \"GPE\", \"pattern\": \"Madhya Pradesh\"},\n",
    "    {\"label\": \"GPE\", \"pattern\": \"Maharashtra\"},\n",
    "    {\"label\": \"GPE\", \"pattern\": \"Manipur\"},\n",
    "    {\"label\": \"GPE\", \"pattern\": \"Meghalaya\"},\n",
    "    {\"label\": \"GPE\", \"pattern\": \"Mizoram\"},\n",
    "    {\"label\": \"GPE\", \"pattern\": \"Nagaland\"},\n",
    "    {\"label\": \"GPE\", \"pattern\": \"Odisha\"},\n",
    "    {\"label\": \"GPE\", \"pattern\": \"Punjab\"},\n",
    "    {\"label\": \"GPE\", \"pattern\": \"Rajasthan\"},\n",
    "    {\"label\": \"GPE\", \"pattern\": \"Sikkim\"},\n",
    "    {\"label\": \"GPE\", \"pattern\": \"Tamil Nadu\"},\n",
    "    {\"label\": \"GPE\", \"pattern\": \"Telangana\"},\n",
    "    {\"label\": \"GPE\", \"pattern\": \"Tripura\"},\n",
    "    {\"label\": \"GPE\", \"pattern\": \"Uttar Pradesh\"},\n",
    "    {\"label\": \"GPE\", \"pattern\": \"Uttarakhand\"},\n",
    "    {\"label\": \"GPE\", \"pattern\": \"West Bengal\"},\n",
    "\n",
    "    # Union Territories\n",
    "    {\"label\": \"GPE\", \"pattern\": \"Andaman and Nicobar Islands\"},\n",
    "    {\"label\": \"GPE\", \"pattern\": \"Chandigarh\"},\n",
    "    {\"label\": \"GPE\", \"pattern\": \"Dadra and Nagar Haveli and Daman and Diu\"},\n",
    "    {\"label\": \"GPE\", \"pattern\": \"Delhi\"},\n",
    "    {\"label\": \"GPE\", \"pattern\": \"Jammu and Kashmir\"},\n",
    "    {\"label\": \"GPE\", \"pattern\": \"Ladakh\"},\n",
    "    {\"label\": \"GPE\", \"pattern\": \"Lakshadweep\"},\n",
    "    {\"label\": \"GPE\", \"pattern\": \"Puducherry\"}\n",
    "]\n"
   ]
  },
  {
   "cell_type": "code",
   "execution_count": 10,
   "id": "d3ca8ed2-d6e1-45ba-88f1-cff858ff40ca",
   "metadata": {},
   "outputs": [],
   "source": [
    "ruler.add_patterns(states)"
   ]
  },
  {
   "cell_type": "code",
   "execution_count": 33,
   "id": "63da752e-796e-401a-8b08-b167705acf08",
   "metadata": {},
   "outputs": [],
   "source": [
    "doc = nlp(\"i am from Khordha,Bhubaneshwar , Odisha\")"
   ]
  },
  {
   "cell_type": "code",
   "execution_count": 36,
   "id": "cf79f722-5346-48c2-a69c-8b7df0505b76",
   "metadata": {},
   "outputs": [
    {
     "name": "stdout",
     "output_type": "stream",
     "text": [
      "Khordha GPE\n",
      "Bhubaneshwar GPE\n",
      "Odisha GPE\n"
     ]
    }
   ],
   "source": [
    "for x in doc.ents:\n",
    "    print(x.text , x.label_)"
   ]
  },
  {
   "cell_type": "code",
   "execution_count": 13,
   "id": "82357a49-ecb6-4491-8e38-19884a3d71dc",
   "metadata": {},
   "outputs": [],
   "source": [
    "nlp.to_disk(\"custom_nlp\")"
   ]
  },
  {
   "cell_type": "markdown",
   "id": "66afc911-1cbc-4ec2-8b07-1a7a858ca675",
   "metadata": {},
   "source": [
    "### Fuzzywuzzy Implementation\n"
   ]
  },
  {
   "cell_type": "code",
   "execution_count": 15,
   "id": "ad9b8352-20c9-40b9-b145-4228a03dd1cc",
   "metadata": {},
   "outputs": [],
   "source": [
    "new_patt = list(df[\"Location_cleaned\"])"
   ]
  },
  {
   "cell_type": "code",
   "execution_count": 17,
   "id": "b8af7965-a10c-4f85-8030-a6d079de1185",
   "metadata": {},
   "outputs": [],
   "source": [
    "for x in states:\n",
    "    new_patt.append(x[\"pattern\"])"
   ]
  },
  {
   "cell_type": "code",
   "execution_count": 18,
   "id": "eee4e918-fe83-47fb-9fee-25b9cad9e9e0",
   "metadata": {},
   "outputs": [
    {
     "name": "stdout",
     "output_type": "stream",
     "text": [
      "['Bamboo Flat', 'Nicobar', 'Port Blair', 'South Andaman', 'Addanki', 'Adoni', 'Akasahebpet', 'Akividu', 'Akkarampalle', 'Amalapuram', 'Amudalavalasa', 'Anakapalle', 'Anantapur', 'Atmakur', 'Attili', 'Avanigadda', 'Badvel', 'Banganapalle', 'Bapatla', 'Betamcherla', 'Bhattiprolu', 'Bhimavaram', 'Bhimunipatnam', 'Bobbili', 'Challapalle', 'Chemmumiahpet', 'Chilakalurupet', 'Chinnachowk', 'Chipurupalle', 'Chirala', 'Chittoor', 'Chodavaram', 'Cuddapah', 'Cumbum', 'Darsi', 'Dharmavaram', 'Dhone', 'Diguvametta', 'East Godavari', 'Elamanchili', 'Ellore', 'Emmiganur', 'Erraguntla', 'Etikoppaka', 'Gajuwaka', 'Ganguvada', 'Gannavaram', 'Giddalur', 'Gokavaram', 'Gorantla', 'Govindapuram,Chilakaluripet,Guntur', 'Gudivada', 'Gudlavalleru', 'Gudur', 'Guntakal Junction', 'Guntur', 'Hindupur', 'Ichchapuram', 'Jaggayyapeta', 'Jammalamadugu', 'Kadiri', 'Kaikalur', 'Kakinada', 'Kalyandurg', 'Kamalapuram', 'Kandukur', 'Kanigiri', 'Kankipadu', 'Kanuru', 'Kavali', 'Kolanukonda', 'Kondapalle', 'Korukollu', 'Kosigi', 'Kovvur', 'Krishna', 'Kuppam', 'Kurnool', 'Macherla', 'Machilipatnam', 'Madanapalle', 'Madugula', 'Mandapeta', 'Mandasa', 'Mangalagiri', 'Markapur', 'Nagari', 'Nagireddipalli', 'Nandigama', 'Nandikotkur', 'Nandyal', 'Narasannapeta', 'Narasapur', 'Narasaraopet', 'Narasingapuram', 'Narayanavanam', 'Narsipatnam', 'Nayudupet', 'Nellore', 'Nidadavole', 'Nuzvid', 'Ongole', 'Pakala', 'Palakollu', 'Palasa', 'Palkonda', 'Pallevada', 'Palmaner', 'Parlakimidi', 'Parvatipuram', 'Pavuluru', 'Pedana', 'pedda nakkalapalem', 'Peddapuram', 'Penugonda', 'Penukonda', 'Phirangipuram', 'Pippara', 'Pithapuram', 'Polavaram', 'Ponnur', 'Ponnuru', 'Prakasam', 'Proddatur', 'Pulivendla', 'Punganuru', 'Puttaparthi', 'Puttur', 'Rajahmundry', 'Ramachandrapuram', 'Ramanayyapeta', 'Ramapuram', 'Rampachodavaram', 'Rayachoti', 'Rayadrug', 'Razam', 'Razampeta', 'Razole', 'Renigunta', 'Repalle', 'Salur', 'Samalkot', 'Sattenapalle', 'Singarayakonda', 'Sompeta', 'Srikakulam', 'Srisailain', 'Suluru', 'Tadepalle', 'Tadepallegudem', 'Tadpatri', 'Tanuku', 'Tekkali', 'Tirumala', 'Tirupati', 'Tuni', 'Uravakonda', 'vadlamuru', 'Vadlapudi', 'Venkatagiri', 'Vepagunta', 'Vetapalem', 'Vijayawada', 'Vinukonda', 'Visakhapatnam', 'Vizianagaram', 'Vizianagaram District', 'Vuyyuru', 'West Godavari', 'Yanam', 'Yanamalakuduru', 'Yarada', 'Along', 'Anjaw', 'Basar', 'Bomdila', 'Changlang', 'Dibang Valley', 'East Kameng', 'East Siang', 'Hayuliang', 'Itanagar', 'Khonsa', 'Kurung Kumey', 'Lohit District', 'Lower Dibang Valley', 'Lower Subansiri', 'Margherita', 'Naharlagun', 'Pasighat', 'Tawang', 'Tezu', 'Tirap', 'Upper Siang', 'Upper Subansiri', 'West Kameng', 'West Siang', 'Ziro', 'Abhayapuri', 'Amguri', 'Badarpur', 'Baksa', 'Barpathar', 'Barpeta', 'Barpeta Road', 'Basugaon', 'Bihpuriagaon', 'Bijni', 'Bilasipara', 'Bokajan', 'Bokakhat', 'Bongaigaon', 'Cachar', 'Chabua', 'Chapar', 'Chirang', 'Darrang', 'Dergaon', 'Dhekiajuli', 'Dhemaji', 'Dhing', 'Dhubri', 'Dibrugarh', 'Digboi', 'Dima Hasao District', 'Diphu', 'Dispur', 'Duliagaon', 'Dum Duma', 'Gauripur', 'Goalpara', 'Gohpur', 'Golaghat', 'Golakganj', 'Goshaingaon', 'Guwahati', 'Haflong', 'Hailakandi', 'Hajo', 'Hojai', 'Howli', 'Jogighopa', 'Jorhat', 'Kamrup', 'Kamrup Metropolitan', 'Karbi Anglong', 'Karimganj', 'Kharupatia', 'Kokrajhar', 'Lakhimpur', 'Lakhipur', 'Lala', 'Lumding Railway Colony', 'Mahur', 'Maibong', 'Makum', 'Mangaldai', 'Mariani', 'Moranha', 'Morigaon', 'Nagaon', 'Nahorkatiya', 'Nalbari', 'Namrup', 'Nazira', 'North Guwahati', 'North Lakhimpur', 'Numaligarh', 'Palasbari', 'Raha', 'Rangapara', 'Rangia', 'Sapatgram', 'Sarupathar', 'Sibsagar', 'Silapathar', 'Silchar', 'Soalkuchi', 'Sonari', 'Sonitpur', 'Sorbhog', 'Tezpur', 'Tinsukia', 'Titabar', 'Udalguri', 'Amarpur', 'Araria', 'Arrah', 'Arwal', 'Asarganj', 'Aurangabad', 'Bagaha', 'Bahadurganj', 'Bairagnia', 'Baisi', 'Bakhtiyarpur', 'Bangaon', 'Banka', 'Banmankhi', 'Bar Bigha', 'Barauli', 'Barh', 'Barhiya', 'Bariarpur', 'Baruni', 'Begusarai', 'Belsand', 'Bettiah', 'Bhabhua', 'Bhagalpur', 'Bhagirathpur', 'Bhawanipur', 'Bhojpur', 'Bihar Sharif', 'Bihariganj', 'Bikramganj', 'Birpur', 'Buddh Gaya', 'Buxar', 'Chakia', 'Chapra', 'Chhatapur', 'Colgong', 'Dalsingh Sarai', 'Darbhanga', 'Daudnagar', 'Dehri', 'Dhaka', 'Dighwara', 'Dinapore', 'Dumra', 'Dumraon', 'Fatwa', 'Forbesganj', 'Gaya', 'Ghoga', 'Gopalganj', 'Hajipur', 'Hilsa', 'Hisua', 'Islampur', 'Jagdispur', 'Jahanabad', 'Jamalpur', 'Jamui', 'Jaynagar', 'Jehanabad', 'Jha-Jha', 'Jhanjharpur', 'Jogbani', 'Kaimur District', 'Kasba', 'Katihar', 'Khagaria', 'Khagaul', 'Kharagpur', 'Khusropur', 'Kishanganj', 'Koath', 'Koelwar', 'Lakhisarai', 'Lalganj', 'Luckeesarai', 'Madhepura', 'Madhipura', 'Madhubani', 'Maharajgani', 'Mairwa', 'Maner', 'Manihari', 'Marhaura', 'Masaurhi Buzurg', 'Mohiuddinnagar', 'Mokameh', 'Monghyr', 'Mothihari', 'Munger', 'Murliganj', 'Muzaffarpur', 'Nabinagar', 'Nalanda', 'Nasriganj', 'Naugachhia', 'Nawada', 'Nirmali', 'Pashchim Champaran', 'Patna', 'Piro', 'Pupri', 'Purba Champaran', 'Purnia', 'Rafiganj', 'Raghunathpur', 'Rajgir', 'Ramnagar', 'Raxaul', 'Revelganj', 'Rohtas', 'Rusera', 'Sagauli', 'Saharsa', 'Samastipur', 'Saran', 'Shahbazpur', 'Shahpur', 'Sheikhpura', 'Sheohar', 'Sherghati', 'Silao', 'Sitamarhi', 'Siwan', 'Supaul', 'Teghra', 'Tekari', 'Thakurganj', 'Vaishali', 'Waris Aliganj', 'Akaltara', 'Ambagarh Chauki', 'Ambikapur', 'Arang', 'Baikunthpur', 'Balod', 'Baloda', 'Baloda Bazar', 'Basna', 'Bastar', 'Bemetara', 'Bhanpuri', 'Bhatapara', 'Bhatgaon', 'Bhilai', 'Bijapur', 'Bilaspur', 'Champa', 'Chhuikhadan', 'Deori', 'Dhamtari', 'Dongargaon', 'Dongargarh', 'Durg', 'Gandai', 'Gariaband', 'Gaurela', 'Gharghoda', 'Gidam', 'Jagdalpur', 'Janjgir', 'Janjgir-Champa', 'Jashpur', 'Jashpurnagar', 'Junagarh', 'Kabeerdham', 'Kanker', 'Katghora', 'Kawardha', 'Khairagarh', 'Khamharia', 'Kharod', 'Kharsia', 'Kirandul', 'Kondagaon', 'Korba', 'Koriya', 'Kota', 'Kotaparh', 'Kumhari', 'Kurud', 'Lormi', 'Mahasamund', 'Mungeli', 'Narayanpur', 'Narharpur', 'Pandaria', 'Pandatarai', 'Pasan', 'Patan', 'Pathalgaon', 'Pendra', 'Pithora', 'Raigarh', 'Raipur', 'Raj Nandgaon', 'Raj-Nandgaon', 'Ramanuj Ganj', 'Ratanpur', 'Sakti', 'Saraipali', 'Sarangarh', 'Seorinarayan', 'Simga', 'Surguja', 'Takhatpur', 'Umarkot', 'Uttar Bastar Kanker', 'Alipur', 'Bawana', 'Central Delhi', 'Deoli', 'East Delhi', 'Karol Bagh', 'Najafgarh', 'Nangloi Jat', 'Narela', 'New Delhi', 'North Delhi', 'North East Delhi', 'North West Delhi', 'Pitampura', 'Rohini', 'South Delhi', 'South West Delhi', 'West Delhi', 'Aldona', 'Arambol', 'Baga', 'Bambolim', 'Bandora', 'Benaulim', 'Calangute', 'Candolim', 'Carapur', 'Cavelossim', 'Chicalim', 'Chinchinim', 'Colovale', 'Colva', 'Cortalim', 'Cuncolim', 'Curchorem', 'Curti', 'Davorlim', 'Dicholi', 'Goa Velha', 'Guirim', 'Jua', 'Kankon', 'Madgaon', 'Mapuca', 'Morjim', 'Mormugao', 'Navelim', 'North Goa', 'Palle', 'Panaji', 'Pernem', 'Ponda', 'Quepem', 'Queula', 'Raia', 'Saligao', 'Sancoale', 'Sanguem', 'Sanquelim', 'Sanvordem', 'Serula', 'Solim', 'South Goa', 'Taleigao', 'Vagator', 'Valpoy', 'Varca', 'Vasco da Gama', 'Abrama', 'Adalaj', 'Agol', 'Ahmedabad', 'Ahwa', 'Akrund', 'Amod', 'Amod,', 'Amreli', 'Amroli', 'Anand', 'Anjar', 'Ankleshwar', 'Babra', 'Bagasara', 'Bagasra', 'Bakharla', 'Balagam', 'Balasinor', 'Balisana', 'Bamanbore', 'Banas Kantha', 'Bandia', 'Bantva', 'Bardoli', 'Bedi', 'Bhachau', 'Bhadran', 'Bhandu', 'Bhanvad', 'Bharuch', 'Bhatha', 'Bhavnagar', 'Bhayavadar', 'Bhildi', 'Bhojpur Dharampur', 'Bhuj', 'Bilimora', 'Bilkha', 'Borsad', 'Botad', 'Chaklasi', 'Chalala', 'Chaloda', 'Champaner', 'Chanasma', 'Chhala', 'Chhota Udepur', 'Chikhli', 'Chotila', 'Chuda', 'Dabhoda', 'Dabhoi', 'Dahegam', 'Dahod', 'Dakor', 'Damnagar', 'Dandi', 'Dangs (India)', 'Danta', 'Dayapar', 'Delvada', 'Delwada', 'Detroj', 'Devbhumi Dwarka', 'Devgadh Bariya', 'Dhandhuka', 'Dhanera', 'Dhansura', 'Dharampur', 'Dharasana', 'Dhari', 'Dhasa', 'Dhola', 'Dholera', 'Dholka', 'Dhoraji', 'Dhrangadhra', 'Dhrol', 'Dhuwaran', 'Disa', 'Dohad', 'Dumkhal', 'Dungarpur', 'Dwarka', 'Gadhada', 'Gandevi', 'Gandhidham', 'Gandhinagar', 'Gariadhar', 'Ghodasar', 'Ghogha', 'Gir Somnath', 'Godhra', 'Gondal', 'Gorwa', 'Halenda', 'Halol', 'Halvad', 'Hansot', 'Harij', 'Harsol', 'Hathuran', 'Himatnagar', 'Idar', 'Jakhau', 'Jalalpore', 'Jalalpur', 'Jalia', 'Jambuda', 'Jambusar', 'Jamnagar', 'Jarod,', 'Jasdan', 'Jetalpur', 'Jetalsar', 'Jetpur', 'Jetpur (Navagadh)', 'Jhalod', 'Jhulasan', 'Jodhpur', 'Jodhpur (Ahmedabad)', 'Jodia', 'Jodiya Bandar', 'Junagadh', 'Kachchh', 'Kachholi', 'Kadi', 'Kadod', 'Kalavad', 'Kalol', 'Kandla', 'Kandla port', 'Kanodar', 'Kapadvanj', 'Karamsad', 'Kariana', 'Karjan', 'Kathor', 'Katpur', 'Kavant', 'Kawant', 'Kayavarohan', 'Kerwada', 'Keshod', 'Khambhalia', 'Khambhat', 'Khavda', 'Kheda', 'Khedbrahma', 'Khedoi', 'Kherali', 'Kheralu', 'Kodinar', 'Kosamba', 'Kothara', 'Kotharia', 'Kukarmunda', 'Kukma', 'Kundla', 'Kutch district', 'Kutiyana', 'Ladol', 'Lakhpat', 'Lakhtar', 'Lalpur', 'Langhnaj', 'Lathi', 'Limbdi', 'Limkheda', 'Lunavada', 'Madhavpur Ghed', 'Madhi', 'Mahemdavad', 'Mahesana', 'Mahisa', 'Mahudha', 'Mahuva', 'Mahuva (Surat)', 'Malpur', 'Manavadar', 'Mandal', 'Mandvi', 'Mandvi (Surat)', 'Mangrol', 'Mangrol (Junagadh)', 'Mansa', 'Meghraj', 'Mehsana', 'Mendarda', 'Mithapur', 'Modasa', 'Morbi', 'Morva (Hadaf)', 'Morwa', 'Mundra', 'Nadiad', 'Nadiad,', 'Nagwa', 'Naldhara', 'Naliya', 'Nargol', 'Narmada', 'Naroda', 'Navsari', 'Nikora', 'Nizar', 'Odadar', 'Okha', 'Olpad', 'Paddhari', 'Padra', 'Palanpur', 'Palanswa', 'Palitana', 'Paliyad', 'Paliyad (Bhavnagar)', 'Palsana', 'Panch Mahals', 'Panchmahal district', 'Pardi', 'Parnera', 'Patan', 'Pavi Jetpur', 'Petlad', 'Pipavav', 'Piplod', 'Porbandar', 'Prabhas Patan', 'Prantij', 'Radhanpur', 'Rajkot', 'Rajpipla', 'Rajula', 'Ranavav', 'Ranpur', 'Rapar', 'Reha', 'Roha', 'Sabar Kantha', 'Sachin', 'Salaya', 'Samakhiali', 'Sanand', 'Sankheda', 'Sarbhon', 'Sardoi', 'Sarkhej', 'Sathamba', 'Savarkundla', 'Savli', 'Sayla', 'Shahpur', 'Shivrajpur', 'Siddhpur', 'Sihor', 'Sikka', 'Sinor', 'Sojitra', 'Songadh', 'Supedi', 'Surat', 'Surendranagar', 'Sutrapada', 'Talaja', 'Tankara', 'Tapi', 'Than', 'Thangadh', 'Tharad', 'Thasra', 'The Dangs', 'Umarpada', 'Umrala', 'Umreth', 'Un', 'Una', 'Unjha', 'Upleta', 'Utran', 'Vadgam', 'Vadnagar', 'Vadodara', 'Vaghodia', 'Vaghodia INA', 'Vallabh Vidyanagar', 'Vallabhipur', 'Valsad', 'Vanala', 'Vansda', 'Vanthli', 'Vapi', 'Vartej', 'Vasa', 'Vasavad', 'Vaso', 'Vataman', 'Vejalpur', 'Veraval', 'Vijapur', 'Vinchhiya', 'Vinchia', 'Viramgam', 'Virpur', 'Visavadar', 'Visnagar', 'Vyara', 'Wadhai', 'Wadhwan', 'Waghai', 'Wankaner', 'Ambala', 'Asandh', 'Ateli Mandi', 'Bahadurgarh', 'Bara Uchana', 'Barwala', 'Bawal', 'Beri Khas', 'Bhiwani', 'Bilaspur', 'Buriya', 'Charkhi Dadri', 'Chhachhrauli', 'Dabwali', 'Dharuhera', 'Ellenabad', 'Faridabad', 'Faridabad District', 'Farrukhnagar', 'Fatehabad', 'Fatehabad District', 'Firozpur Jhirka', 'Gharaunda', 'Gohana', 'Gorakhpur', 'Gurgaon', 'Hansi', 'Hasanpur', 'Hisar', 'Hodal', 'Inda Chhoi', 'Indri', 'Jagadhri', 'Jakhal', 'Jhajjar', 'Jind', 'Kaithal', 'Kalanaur', 'Kalanwali', 'Kanina Khas', 'Karnal', 'Kharkhauda', 'Kheri Sampla', 'Kurukshetra', 'Ladwa', 'Loharu', 'Maham', 'Mahendragarh', 'Mandholi Kalan', 'Mustafabad', 'Narayangarh', 'Narnaul', 'Narnaund', 'Narwana', 'Nilokheri', 'Nuh', 'Palwal', 'Panchkula', 'Panipat', 'Pataudi', 'Pehowa', 'Pinjaur', 'Punahana', 'Pundri', 'Radaur', 'Rania', 'Ratia', 'Rewari', 'Rewari District', 'Rohtak', 'Safidon', 'Samalkha', 'Shadipur Julana', 'Shahabad', 'Sirsa', 'Sohna', 'Sonipat', 'Taoru', 'Thanesar', 'Tohana', 'Tosham', 'Uklana', 'Yamunanagar', 'Arki', 'Baddi', 'Banjar', 'Bilaspur', 'Chamba', 'Chaupal', 'Chowari', 'Chuari Khas', 'Dagshai', 'Dalhousie', 'Daulatpur', 'Dera Gopipur', 'Dharamsala', 'Gagret', 'Ghumarwin', 'Hamirpur', 'Jawala Mukhi', 'Jogindarnagar', 'Jubbal', 'Jutogh', 'Kalka', 'Kangar', 'Kangra', 'Kasauli', 'Kinnaur', 'Kotkhai', 'Kotla', 'Kulu', 'Kyelang', 'Lahul and Spiti', 'Manali', 'Mandi', 'Nadaun', 'Nagar', 'Nagrota', 'Nahan', 'Nalagarh', 'Palampur', 'Pandoh', 'Paonta Sahib', 'Parwanoo', 'Rajgarh', 'Rampur', 'Rohru', 'Sabathu', 'Santokhgarh', 'Sarahan', 'Sarka Ghat', 'Seoni', 'Shimla', 'Sirmaur', 'Solan', 'Sundarnagar', 'Theog', 'Tira Sujanpur', 'Una', 'Yol', 'Akhnur', 'Anantnag', 'Awantipur', 'Badgam', 'Bandipore', 'Bandipura', 'Banihal', 'Baramula', 'Batoti', 'Bhadarwah', 'Bijbehara', 'Bishnah', 'Doda', 'Gandarbal', 'Ganderbal', 'Gho Brahmanan de', 'Hajan', 'Hiranagar', 'Jammu', 'Jaurian', 'Kathua', 'Katra', 'Khaur', 'Kishtwar', 'Kud', 'Kulgam', 'Kupwara', 'Ladakh', 'Magam', 'Nawanshahr', 'Noria', 'Padam', 'Pahlgam', 'Parol', 'Pattan', 'Pulwama', 'Punch', 'Qazigund', 'Rajaori', 'Rajauri', 'Ramban', 'Ramgarh', 'Ramnagar', 'Riasi', 'Samba', 'Shupiyan', 'Sopur', 'Soyibug', 'Srinagar', 'Sumbal', 'Thang', 'Thanna Mandi', 'Tral', 'Tsrar Sharif', 'Udhampur', 'Uri', 'Bagra', 'Barka Kana', 'Barki Saria', 'Barwadih', 'Bhojudih', 'Bokaro', 'Bundu', 'Chaibasa', 'Chakradharpur', 'Chakulia', 'Chandil', 'Chas', 'Chatra', 'Chiria', 'Daltonganj', 'Deogarh', 'Dhanbad', 'Dhanwar', 'Dugda', 'Dumka', 'Garhwa', 'Ghatsila', 'Giridih', 'Gobindpur', 'Godda', 'Gomoh', 'Gopinathpur', 'Gua', 'Gumia', 'Gumla', 'Hazaribag', 'Hazaribagh', 'Hesla', 'Husainabad', 'Jagannathpur', 'Jamadoba', 'Jamshedpur', 'Jamtara', 'Jasidih', 'Jharia', 'Jugsalai', 'Jumri Tilaiya', 'Kalikapur', 'Kandra', 'Kanke', 'Katras', 'Kenduadih', 'Kharsawan', 'Khunti', 'Kodarma', 'Kuju', 'Latehar', 'Lohardaga', 'Madhupur', 'Malkera', 'Manoharpur', 'Mugma', 'Mushabani', 'Neturhat', 'Nirsa', 'Noamundi', 'Pakur', 'Palamu', 'Pashchim Singhbhum', 'patamda', 'Pathardih', 'Purba Singhbhum', 'Ramgarh', 'Ranchi', 'Ray', 'Sahibganj', 'Saraikela', 'Sarubera', 'Sijua', 'Simdega', 'Sini', 'Topchanchi', 'Afzalpur', 'Ajjampur', 'Aland', 'Alnavar', 'Alur', 'Anekal', 'Ankola', 'Annigeri', 'Arkalgud', 'Arsikere', 'Athni', 'Aurad', 'Badami', 'Bagalkot', 'Bagepalli', 'Bail-Hongal', 'Ballari', 'Ballary', 'Banavar', 'Bangalore Rural', 'Bangalore Urban', 'Bangarapet', 'Bannur', 'Bantval', 'Basavakalyan', 'Basavana Bagevadi', 'Belagavi', 'Belluru', 'Beltangadi', 'Belur', 'Bengaluru', 'Bhadravati', 'Bhalki', 'Bhatkal', 'Bidar', 'Bilgi', 'Birur', 'Byadgi', 'Byndoor', 'Canacona', 'Challakere', 'Chamrajnagar', 'Channagiri', 'Channapatna', 'Channarayapatna', 'Chik Ballapur', 'Chikkaballapur', 'Chikkamagaluru', 'Chiknayakanhalli', 'Chikodi', 'Chincholi', 'Chintamani', 'Chitapur', 'Chitradurga', 'Closepet', 'Coondapoor', 'Dakshina Kannada', 'Dandeli', 'Davanagere', 'Devanhalli', 'Dharwad', 'Dod Ballapur', 'French Rocks', 'Gadag', 'Gadag-Betageri', 'Gajendragarh', 'Gangawati', 'Gangolli', 'Gokak', 'Gokarna', 'Goribidnur', 'Gorur', 'Gubbi', 'Gudibanda', 'Guledagudda', 'Gundlupēt', 'Gurmatkal', 'Hadagalli', 'Haliyal', 'Hampi', 'Hangal', 'Harihar', 'Harpanahalli', 'Hassan', 'Haveri', 'Heggadadevankote', 'Hirekerur', 'Hiriyur', 'Holalkere', 'Hole Narsipur', 'Homnabad', 'Honavar', 'Honnali', 'Hosanagara', 'Hosangadi', 'Hosdurga', 'Hoskote', 'Hospet', 'Hubballi', 'Hukeri', 'Hungund', 'Hunsur', 'Ilkal', 'Indi', 'Jagalur', 'Jamkhandi', 'Jevargi', 'Kadur', 'Kalaburgi', 'Kalghatgi', 'Kampli', 'Kankanhalli', 'Karkala', 'Karwar', 'Kavalur', 'Kerur', 'Khanapur', 'Kodagu', 'Kodigenahalli', 'Kodlipet', 'Kolar', 'Kollegal', 'Konanur', 'Konnur', 'Koppa', 'Koppal', 'Koratagere', 'Kotturu', 'Krishnarajpet', 'Kudachi', 'Kudligi', 'Kumsi', 'Kumta', 'Kundgol', 'Kunigal', 'Kurgunta', 'Kushalnagar', 'Kushtagi', 'Lakshmeshwar', 'Lingsugur', 'Londa', 'Maddagiri', 'Maddur', 'Madikeri', 'Magadi', 'Mahalingpur', 'Malavalli', 'Malpe', 'Malur', 'Mandya', 'Mangaluru', 'Manipal', 'Manvi', 'Mayakonda', 'Melukote', 'Mudbidri', 'Muddebihal', 'Mudgal', 'Mudgere', 'Mudhol', 'Mulbagal', 'Mulgund', 'Mulki', 'Mundargi', 'Mundgod', 'Munirabad', 'Murudeshwara', 'Mysuru', 'Nagamangala', 'Nanjangud', 'Narasimharajapura', 'Naregal', 'Nargund', 'Navalgund', 'Nelamangala', 'Nyamti', 'Pangala', 'Pavugada', 'Piriyapatna', 'Ponnampet', 'Puttur', 'Rabkavi', 'Raichur', 'Ramanagara', 'Ranibennur', 'Raybag', 'Robertsonpet', 'Ron', 'Sadalgi', 'Sagar', 'Sakleshpur', 'Sandur', 'Sanivarsante', 'Sankeshwar', 'Sargur', 'Saundatti', 'Savanur', 'Seram', 'Shahabad', 'Shahpur', 'Shiggaon', 'Shikarpur', 'Shimoga', 'Shirhatti', 'Shorapur', 'Shrirangapattana', 'Siddapur', 'Sidlaghatta', 'Sindgi', 'Sindhnur', 'Sira', 'Sirsi', 'Siruguppa', 'Someshwar', 'Somvarpet', 'Sorab', 'Sravana Belgola', 'Sringeri', 'Srinivaspur', 'Sulya', 'Suntikoppa', 'Talikota', 'Tarikere', 'Tekkalakote', 'Terdal', 'Tiptur', 'Tirthahalli', 'Tirumakudal Narsipur', 'Tumakuru', 'Turuvekere', 'Udupi', 'Ullal', 'Uttar Kannada', 'Vadigenhalli', 'Vijayapura', 'Virarajendrapet', 'Wadi', 'Yadgir', 'Yelahanka', 'Yelandur', 'Yelbarga', 'Yellapur', 'Adur', 'Alappuzha', 'Aluva', 'Alwaye', 'Angamali', 'Aroor', 'Arukutti', 'Attingal', 'Avanoor', 'Azhikkal', 'Badagara', 'Beypore', 'Changanacheri', 'Chēlakara', 'Chengannur', 'Cherpulassery', 'Cherthala', 'Chetwayi', 'Chittur', 'Cochin', 'Dharmadam', 'Edakkulam', 'Elur', 'Erattupetta', 'Ernakulam', 'Ferokh', 'Guruvayur', 'Idukki', 'Iringal', 'Irinjalakuda', 'Kadakkavoor', 'Kalamassery', 'Kalavoor', 'Kalpatta', 'Kannangad', 'Kannavam', 'Kannur', 'Kasaragod', 'Kasaragod District', 'Kattanam', 'Kayankulam', 'Kizhake Chalakudi', 'Kodungallur', 'Kollam', 'Kotamangalam', 'Kottayam', 'Kovalam', 'Kozhikode', 'Kumbalam', 'Kunnamangalam', 'Kunnamkulam', 'Kunnumma', 'Kutiatodu', 'Kuttampuzha', 'Lalam', 'Mahē', 'Malappuram', 'Manjeri', 'Manjēshvar', 'Mannarakkat', 'Marayur', 'Mattanur', 'Mavelikara', 'Mavoor', 'Muluppilagadu', 'Munnar', 'Muvattupula', 'Muvattupuzha', 'Nadapuram', 'Naduvannur', 'Nedumangad', 'Neyyattinkara', 'Nilēshwar', 'Ottappalam', 'Palackattumala', 'Palakkad district', 'Palghat', 'Panamaram', 'Pappinisshēri', 'Paravur Tekkumbhagam', 'Pariyapuram', 'Pathanamthitta', 'Pattanamtitta', 'Payyannur', 'Perumbavoor', 'Perumpavur', 'Perya', 'Piravam', 'Ponmana', 'Ponnani', 'Punalur', 'Ramamangalam', 'Shertallai', 'Shōranur', 'Talipparamba', 'Tellicherry', 'Thanniyam', 'Thiruvananthapuram', 'Thrissur', 'Thrissur District', 'Tirur', 'Tiruvalla', 'Vaikam', 'Varkala', 'Vayalar', 'Vettur', 'Wayanad', 'Kargil', 'Leh', 'Kavaratti', 'Agar', 'Ajaigarh', 'Akodia', 'Alampur', 'Alirajpur', 'Alot', 'Amanganj', 'Amarkantak', 'Amarpatan', 'Amarwara', 'Ambah', 'Amla', 'Anjad', 'Antri', 'Anuppur', 'Aron', 'Ashoknagar', 'Ashta', 'Babai', 'Badarwas', 'Badnawar', 'Bag', 'Bagli', 'Baihar', 'Baikunthpur', 'Bakshwaho', 'Balaghat', 'Baldeogarh', 'Bamna', 'Bamor Kalan', 'Bamora', 'Banda', 'Barela', 'Barghat', 'Bargi', 'Barhi', 'Barwani', 'Basoda', 'Begamganj', 'Beohari', 'Berasia', 'Betma', 'Betul', 'Betul Bazar', 'Bhabhra', 'Bhainsdehi', 'Bhander', 'Bhanpura', 'Bhawaniganj', 'Bhikangaon', 'Bhind', 'Bhitarwar', 'Bhopal', 'Biaora', 'Bijawar', 'Bijrauni', 'Bodri', 'Burhanpur', 'Burhar', 'Chanderi', 'Chandia', 'Chandla', 'Chhatarpur', 'Chhindwara', 'Chichli', 'Chorhat', 'Daboh', 'Dabra', 'Damoh', 'Datia', 'Deori Khas', 'Depalpur', 'Dewas', 'Dhamnod', 'Dhana', 'Dhar', 'Dharampuri', 'Dindori', 'Etawa', 'Gadarwara', 'Garha Brahman', 'Garhakota', 'Gautampura', 'Ghansor', 'Gogapur', 'Gohadi', 'Govindgarh', 'Guna', 'Gurh', 'Gwalior', 'Harda', 'Harda Khas', 'Harpalpur', 'Harrai', 'Harsud', 'Hatod', 'Hatta', 'Hindoria', 'Hoshangabad', 'Iawar', 'Ichhawar', 'Iklehra', 'Indore', 'Isagarh', 'Itarsi', 'Jabalpur', 'Jaisinghnagar', 'Jaithari', 'Jamai', 'Jaora', 'Jatara', 'Jawad', 'Jhabua', 'Jiran', 'Jobat', 'Kailaras', 'Kaimori', 'Kannod', 'Kareli', 'Karera', 'Karrapur', 'Kasrawad', 'Katangi', 'Katni', 'Khachrod', 'Khailar', 'Khajuraho Group of Monuments', 'Khamaria', 'Khandwa', 'Khandwa district', 'Khargapur', 'Khargone', 'Khategaon', 'Khilchipur', 'Khirkiyan', 'Khujner', 'Khurai', 'Kolaras', 'Korwai', 'Kotar', 'Kothi', 'Kotma', 'Kotwa', 'Kukshi', 'Kumbhraj', 'Lahar', 'Lakhnadon', 'Leteri', 'Lodhikheda', 'Machalpur', 'Madhogarh', 'Maheshwar', 'Mahgawan', 'Maihar', 'Majholi', 'Maksi', 'Malhargarh', 'Manasa', 'Manawar', 'Mandideep', 'Mandla', 'Mandleshwar', 'Mandsaur', 'Mangawan', 'Manpur', 'Mau', 'Mauganj', 'Mihona', 'Mohgaon', 'Morar', 'Morena', 'Multai', 'Mundi', 'Mungaoli', 'Murwara', 'Nagda', 'Nagod', 'Naigarhi', 'Nainpur', 'Namli', 'Naraini', 'Narayangarh', 'Narsimhapur', 'Narsinghgarh', 'Narwar', 'Nasrullahganj', 'Neemuch', 'Nepanagar', 'Orchha', 'Pachmarhi', 'Palera', 'Pali', 'Panagar', 'Panara', 'Pandhana', 'Pandhurna', 'Panna', 'Pansemal', 'Parasia', 'Patan', 'Patharia', 'Pawai', 'Petlawad', 'Piploda', 'Pithampur', 'Porsa', 'Punasa', 'Raghogarh', 'Rahatgarh', 'Raisen', 'Rajgarh', 'Rajnagar', 'Rajpur', 'Rampura', 'Ranapur', 'Ratangarh', 'Ratlam', 'Rehli', 'Rehti', 'Rewa', 'Sabalgarh', 'Sagar', 'Sailana', 'Sanawad', 'Sanchi', 'Sanwer', 'Sarangpur', 'Satna', 'Satwas', 'Saugor', 'Sausar', 'Sehore', 'Sendhwa', 'Seondha', 'Seoni', 'Seoni Malwa', 'Shahdol', 'Shahgarh', 'Shahpur', 'Shahpura', 'Shajapur', 'Shamgarh', 'Sheopur', 'Shivpuri', 'Shujalpur', 'Sidhi', 'Sihora', 'Simaria', 'Singoli', 'Singrauli', 'Sirmaur', 'Sironj', 'Sitamau', 'Sohagi', 'Sohagpur', 'Sultanpur', 'Susner', 'Tal', 'Talen', 'Tarana', 'Tekanpur', 'Tendukheda', 'Teonthar', 'Thandla', 'Tikamgarh', 'Tirodi', 'Udaipura', 'Ujjain', 'Ukwa', 'Umaria', 'Umaria District', 'Umri', 'Unhel', 'Vidisha', 'Waraseoni', 'Achalpur', 'Adawad', 'Agar Panchaitan', 'Aheri', 'Ahiri', 'Ahmadnagar', 'Ahmadpur', 'Ahmednagar', 'Airoli', 'Ajra', 'Akalkot', 'Akkalkot', 'Akluj', 'Akola', 'Akolner', 'Akot', 'Akrani', 'Alandi', 'Ale', 'Alibag', 'Alkuti', 'Allapalli', 'Amalner', 'Amarnath', 'Ambad', 'Ambajogai', 'Ambarnath', 'Ambegaon', 'Amgaon', 'Amravati', 'Amravati Division', 'Andheri', 'Andura', 'Anjangaon', 'Anjarle', 'Anshing', 'Arag', 'Arangaon', 'Ardhapur', 'Argaon', 'Artist Village', 'Arvi', 'Ashta', 'Ashti', 'Asoda', 'Assaye', 'Astagaon', 'Aundh, Satara', 'Aurangabad', 'Ausa', 'Badlapur', 'Badnapur', 'Badnera', 'Bagewadi', 'Balapur', 'Balapur, Akola district', 'Ballalpur', 'Ballard Estate', 'Ballarpur', 'Banda, Maharashtra', 'Bandra', 'Baner', 'Bankot', 'Baramati', 'Barsi', 'Basmat', 'Basmath', 'Bavdhan', 'Bawanbir', 'Beed', 'Bhadgaon, Maharashtra', 'Bhandara', 'Bhandardara', 'Bhandup', 'Bhayandar', 'Bhigvan', 'Bhiwandi', 'Bhiwapur', 'Bhokar', 'Bhokardan', 'Bhoom', 'Bhor', 'Bhudgaon', 'Bhugaon', 'Bhum', 'Bhusaval', 'Bhusawal', 'Bid', 'Bijur', 'Bilashi', 'Biloli', 'Boisar', 'Borgaon Manju', 'Borivali', 'Borivli', 'Brahmapuri', 'Breach Candy', 'Buldana', 'Buldhana', 'Byculla', 'Chakan', 'Chakur', 'Chalisgaon', 'Chanda', 'Chandgad', 'Chandor', 'Chandrapur', 'Chandur', 'Chandur Bazar', 'Chausala', 'Chembur', 'Chicholi', 'Chichondi Patil', 'Chikhli (Buldhana)', 'Chikhli (Jalna)', 'Chimur', 'Chinchani', 'Chinchpokli', 'Chiplun', 'Chopda', 'Colaba', 'Dabhol', 'Daddi', 'Dahanu', 'Dahivel', 'Dapoli', 'Darwha', 'Daryapur', 'Dattapur', 'Daulatabad', 'Daund', 'Deccan Gymkhana', 'Deglur', 'Dehu', 'Deolali', 'Deolapar', 'Deoli', 'Deoni', 'Deulgaon Raja', 'Devrukh', 'Dharangaon', 'Dharavi', 'Dharmabad', 'Dharur', 'Dhawalpuri', 'Dhule', 'Dhulia', 'Dighori', 'Diglur', 'Digras', 'Dindori, Maharashtra', 'Diveagar', 'Dombivli', 'Dondaicha', 'Dongri', 'Dudhani', 'Durgapur', 'Durgapur, Chandrapur', 'Erandol', 'Faizpur', 'Fort', 'Gadchiroli', 'Gadhinglaj', 'Gangakher', 'Gangapur', 'Ganpatipule', 'Gevrai', 'Ghargaon', 'Ghatanji', 'Ghatkopar', 'Ghoti Budrukh', 'Ghugus', 'Girgaon', 'Gondia', 'Gondiya', 'Gorai', 'Goregaon', 'Guhagar', 'Hadapsar, Pune', 'Hadgaon', 'Halkarni', 'Harangul', 'Harnai', 'Helwak', 'Hinganghat', 'Hingoli', 'Hirapur', 'Hirapur Hamesha', 'Hotgi', 'Ichalkaranji', 'Igatpuri', 'Indapur', 'Jaisingpur', 'Jaitapur', 'Jakhangaon', 'Jalgaon', 'Jalgaon Jamod', 'Jalkot', 'Jalna', 'Jamkhed', 'Jamod', 'Janephal', 'Jaoli', 'Jat, Sangli', 'Jategaon', 'Jawhar', 'Jaysingpur', 'Jejuri', 'Jintur', 'Jogeshwari', 'Juhu', 'Junnar', 'Kachurwahi', 'Kadegaon', 'Kadus', 'Kagal', 'Kaij', 'Kalamb', 'Kalamb, Osmanabad', 'Kalamboli', 'Kalamnuri', 'Kalas', 'Kali(DK)', 'Kalmeshwar', 'Kalundri', 'Kalyan', 'Kalyani Nagar', 'Kamargaon', 'Kamatgi', 'Kamptee', 'Kamthi', 'Kandri', 'Kankauli', 'Kankavli', 'Kannad', 'Karad', 'Karajagi', 'Karanja', 'Karanja Lad', 'Karjat', 'Karkamb', 'Karmala', 'Kasara', 'Kasoda', 'Kati', 'Katol', 'Katral', 'Khadki', 'Khalapur', 'Khallar', 'Khamgaon', 'Khanapur', 'Khandala', 'Khangaon', 'Khapa', 'Kharakvasla', 'Kharda', 'Kharghar', 'Kharsundi', 'Khed', 'Khede', 'Khetia', 'Khoni', 'Khopoli', 'Khuldabad', 'Kinwat', 'Kodoli', 'Kolhapur', 'Kondalwadi', 'Kondhali', 'Kopar Khairane', 'Kopargaon', 'Kopela', 'Koradi', 'Koregaon', 'Koynanagar', 'Kudal', 'Kuhi', 'Kurandvad', 'Kurankhed', 'Kurduvadi', 'Kusumba', 'Lakhandur', 'Lanja', 'Lasalgaon', 'Latur', 'Lavasa', 'Lohogaon', 'Lonar', 'Lonavla', 'Mahabaleshwar', 'Mahad', 'Mahape', 'Mahim', 'Maindargi', 'Majalgaon', 'Makhjan', 'Malabar Hill', 'Malad', 'Malegaon', 'Malkapur', 'Malvan', 'Manchar', 'Mandangad', 'Mandhal', 'Mandwa', 'Mangaon', 'Mangrul Pir', 'Manjlegaon', 'Mankeshwar', 'Mankhurd', 'Manmad', 'Manor', 'Mansar', 'Manwat', 'Manwath', 'Maregaon', 'Mastiholi', 'Masur, India', 'Matheran', 'Matunga', 'Mazagaon', 'Mehekar', 'Mehergaon', 'Mehkar', 'Mhasla', 'Mhasvad', 'Miraj', 'Mohadi', 'Mohol', 'Mohpa', 'Mokhada taluka', 'Mora, Maharashtra', 'Moram', 'Morsi', 'Mowad', 'Mudkhed', 'Mukher', 'Mul', 'Mulher', 'Mulund', 'Mumbai', 'Mumbai Suburban', 'Murbad', 'Murgud', 'Murtajapur', 'Murud (Raigad)', 'Murud (Ratnagiri)', 'Murum', 'Nadgaon', 'Nagapur', 'Nagothana', 'Nagpur', 'Nagpur Division', 'Nala Sopara', 'Naldurg', 'Nalegaon', 'Nampur', 'Nanded', 'Nandgaon', 'Nandnee', 'Nandura', 'Nandura Buzurg', 'Nandurbar', 'Narayangaon', 'Nardana', 'Nariman Point', 'Narkhed', 'Nashik', 'Nashik Division', 'Navapur', 'Navi Mumbai', 'Neral', 'Nerur', 'Nevasa', 'Nighoj', 'Nilanga', 'Nipani', 'Niphad', 'Nira Narsingpur', 'Osmanabad', 'Ozar', 'Pabal', 'Pachora', 'Pahur, Maharashtra', 'Paithan', 'Palghar', 'Pali, Raigad', 'Palso', 'Panchgani', 'Pandharpur', 'Pandhurli', 'Panhala', 'Panvel', 'Parbhani', 'Parel', 'Parli Vaijnath', 'Parner', 'Parola', 'Parseoni', 'Partur', 'Patan', 'Pathardi', 'Pathri', 'Patur', 'Paturda', 'Paud', 'Pauni', 'Pawni', 'Pedgaon', 'Peint', 'Pen', 'Phaltan', 'Phulambri', 'Piliv', 'Pimpalgaon Baswant', 'Pimpalgaon Raja', 'Pimpri', 'Pimpri-Chinchwad', 'Pipri', 'Powai', 'Prabhadevi', 'Prakasha', 'Pulgaon', 'Pune', 'Pune Division', 'Puntamba', 'Pural', 'Purna', 'Pusad', 'Radhanagari', 'Rahata', 'Rahimatpur', 'Rahuri', 'Raigarh', 'Raireshwar', 'Rajapur', 'Rajgurunagar', 'Rajur', 'Rajura', 'Ralegaon', 'Ramewadi', 'Ramtek', 'Ratnagiri', 'Raver', 'Renapur', 'Renavi', 'Revadanda', 'Revdanda', 'Risod', 'Roha', 'Sailu', 'Sakol', 'Sakoli', 'Sakri', 'Samudrapur', 'Sangameshwar', 'Sangamner', 'Sangli', 'Sangola', 'Sangole', 'Sangrampur, Maharashtra', 'Saoli', 'Saoner', 'Sarangkheda', 'Sasvad', 'Saswad', 'Satana', 'Satara', 'Satara Division', 'Satpati', 'Savantvadi', 'Savda', 'Savlaj', 'Sawantvadi', 'Selu', 'Sevagram', 'Sewri', 'Shahada', 'Shahapur', 'Shedbal', 'Shegaon', 'Shevgaon', 'Shikrapur', 'Shiraguppi', 'Shirala', 'Shirdi', 'Shirgaon', 'Shirol', 'Shirpur', 'Shirud', 'Shirwal', 'Shivaji Nagar', 'Shrigonda', 'Sillod', 'Sindewahi', 'Sindhudurg', 'Sindi', 'Sindkheda', 'Sinnar', 'Sion, Mumbai', 'Sironcha', 'Sirur', 'Sivala, East Godavari district', 'Solapur', 'Sonala', 'Sonegaon', 'Songir', 'Sonvad', 'Soygaon', 'Srivardhan', 'Surgana', 'Taklibhan', 'Talbid', 'Talegaon Dabhade', 'Talegaon Dhamdhere', 'Taloda', 'Talode', 'Tarapur', 'Tardeo', 'Tasgaon', 'Telhara', 'Thalner', 'Thane', 'Trimbak', 'Trombay', 'Tuljapur', 'Tumsar', 'Udgir', 'Ulhasnagar', 'Umarga', 'Umarkhed', 'Umred', 'Uran', 'Uruli Kanchan', 'Vada', 'Vadgaon', 'Vadner', 'Vaijapur', 'Vairag', 'Valsang', 'Vangaon', 'Varangaon', 'Vashi', 'Vasind', 'Vatul', 'Velas, Maharashtra', 'Velneshwar', 'Vengurla', 'Vijaydurg', 'Vikhroli', 'Vile Parle', 'Vinchur', 'Virar', 'Vita, Maharashtra', 'Vite', 'Wadala', 'Wadgaon', 'Wadner', 'Wadwani', 'Wagholi', 'Wai', 'Wakad', 'Walgaon', 'Walki', 'Wani', 'Wardha', 'Warora', 'Warud', 'Washim', 'Worli', 'Yaval', 'Yavatmal', 'Yeola', 'Bishnupur', 'Churachandpur', 'Imphal', 'Kakching', 'Mayang Imphal', 'Moirang', 'Phek', 'Senapati', 'Tamenglong', 'Thoubal', 'Ukhrul', 'Wangjing', 'Yairipok', 'Cherrapunji', 'East Garo Hills', 'East Jaintia Hills', 'East Khasi Hills', 'Mairang', 'Mankachar', 'Nongpoh', 'Nongstoin', 'North Garo Hills', 'Ri-Bhoi', 'Shillong', 'South Garo Hills', 'South West Garo Hills', 'South West Khasi Hills', 'Tura', 'West Garo Hills', 'West Jaintia Hills', 'West Khasi Hills', 'Aizawl', 'Champhai', 'Darlawn', 'Khawhai', 'Kolasib', 'Kolasib district', 'Lawngtlai', 'Lunglei', 'Mamit', 'North Vanlaiphai', 'Saiha', 'Sairang', 'Saitlaw', 'Serchhip', 'Thenzawl', 'Dimapur', 'Kohima', 'Mokokchung', 'Mon', 'Peren', 'Phek', 'Tuensang', 'Tuensang District', 'Wokha', 'Zunheboto', 'Angul', 'Angul District', 'Asika', 'Athagarh', 'Bada Barabil', 'Balangir', 'Balasore', 'Baleshwar', 'Balimila', 'Balugaon', 'Banapur', 'Banki', 'Banposh', 'Baragarh', 'Barbil', 'Bargarh', 'Barpali', 'Basudebpur', 'Baud', 'Baudh', 'Belaguntha', 'Bhadrak', 'Bhadrakh', 'Bhanjanagar', 'Bhawanipatna', 'Bhuban', 'Bhubaneshwar', 'Binka', 'Birmitrapur', 'Bolanikhodan', 'Brahmapur', 'Brajarajnagar', 'Buguda', 'Burla', 'Champua', 'Chandbali', 'Chatrapur', 'Chikitigarh', 'Chittarkonda', 'Cuttack', 'Daitari', 'Deogarh', 'Dhenkanal', 'Digapahandi', 'Gajapati', 'Ganjam', 'Gopalpur', 'Gudari', 'Gunupur', 'Hinjilikatu', 'Hirakud', 'Jagatsinghapur', 'Jagatsinghpur', 'Jajpur', 'Jaleshwar', 'Jatani', 'Jeypore', 'Jharsuguda', 'Jharsuguda District', 'Kaintragarh', 'Kalahandi', 'Kamakhyanagar', 'Kandhamal', 'Kantabanji', 'Kantilo', 'Kendrapara', 'Kendraparha', 'Kendujhar', 'Kesinga', 'Khallikot', 'Kharhial', 'Khordha', 'Khurda', 'Kiri Buru', 'Kodala', 'Konarka', 'Koraput', 'Kuchaiburi', 'Kuchinda', 'Malakanagiri', 'Malkangiri', 'Mayurbhanj', 'Nabarangpur', 'Nayagarh', 'Nayagarh District', 'Nilgiri', 'Nimaparha', 'Nowrangapur', 'Nuapada', 'Padampur', 'Paradip Garh', 'Patamundai', 'Patnagarh', 'Phulbani', 'Pipili', 'Polasara', 'Puri', 'Purushottampur', 'Rambha', 'Raurkela', 'Rayagada', 'Remuna', 'Rengali', 'Sambalpur', 'Sonepur', 'Sorada', 'Soro', 'Subarnapur', 'Sundargarh', 'Talcher', 'Tarabha', 'Titlagarh', 'Udayagiri', 'Karaikal', 'Mahe', 'Yanam', 'Abohar', 'Adampur', 'Ajitgarh', 'Ajnala', 'Akalgarh', 'Alawalpur', 'Amloh', 'Amritsar', 'Anandpur Sahib', 'Badhni Kalan', 'Bagha Purana', 'Bakloh', 'Balachor', 'Banga', 'Banur', 'Barnala', 'Batala', 'Begowal', 'Bhadaur', 'Bhatinda', 'Bhawanigarh', 'Bhikhi', 'Bhogpur', 'Bholath', 'Budhlada', 'Chima', 'Dasuya', 'Dera Baba Nanak', 'Dera Bassi', 'Dhanaula', 'Dhariwal', 'Dhilwan', 'Dhudi', 'Dhuri', 'Dina Nagar', 'Dirba', 'Doraha', 'Faridkot', 'Fatehgarh Churian', 'Fatehgarh Sahib', 'Fazilka', 'Firozpur', 'Firozpur District', 'Gardhiwala', 'Garhshankar', 'Ghanaur', 'Giddarbaha', 'Gurdaspur', 'Guru Har Sahai', 'Hajipur', 'Hariana', 'Hoshiarpur', 'Ishanpur', 'Jagraon', 'Jaito', 'Jalalabad', 'Jalandhar', 'Jandiala', 'Jandiala Guru', 'Kalanaur', 'Kapurthala', 'Kartarpur', 'Khamanon', 'Khanna', 'Kharar', 'Khemkaran', 'Kot Isa Khan', 'Kotkapura', 'Laungowal', 'Ludhiana', 'Machhiwara', 'Majitha', 'Makhu', 'Malaut', 'Malerkotla', 'Mansa', 'Maur Mandi', 'Moga', 'Mohali', 'Morinda', 'Mukerian', 'Nabha', 'Nakodar', 'Nangal', 'Nawanshahr', 'Nurmahal', 'Nurpur Kalan', 'Pathankot', 'Patiala', 'Patti', 'Phagwara', 'Phillaur', 'Qadian', 'Rahon', 'Raikot', 'Rajasansi', 'Rajpura', 'Ram Das', 'Rampura', 'Rupnagar', 'Samrala', 'Sanaur', 'Sangrur', 'Sardulgarh', 'Shahid Bhagat Singh Nagar', 'Shahkot', 'Sham Churasi', 'Sirhind-Fategarh', 'Sri Muktsar Sahib', 'Sultanpur Lodhi', 'Sunam', 'Talwandi Bhai', 'Talwara', 'Tarn Taran Sahib', 'Zira', 'Abhaneri', 'Abu', 'Abu Road', 'Ajmer', 'Aklera', 'Alwar', 'Amet', 'Anta', 'Anupgarh', 'Asind', 'Bagar', 'Bakani', 'Bali', 'Balotra', 'Bandikui', 'Banswara', 'Baran', 'Bari', 'Bari Sadri', 'Barmer', 'Basi', 'Basni', 'Baswa', 'Bayana', 'Beawar', 'Begun', 'Behror', 'Bhadasar', 'Bhadra', 'Bharatpur', 'Bhasawar', 'Bhilwara', 'Bhindar', 'Bhinmal', 'Bhiwadi', 'Bhuma', 'Bikaner', 'Bilara', 'Bissau', 'Borkhera', 'Bundi', 'Chaksu', 'Chechat', 'Chhabra', 'Chhapar', 'Chhoti Sadri', 'Chidawa', 'Chittaurgarh', 'Churu', 'Dariba', 'Dausa', 'Deoli', 'Deshnoke', 'Devgarh', 'Dhaulpur', 'Didwana', 'Dig', 'Dungarpur', 'Fatehpur', 'Galiakot', 'Ganganagar', 'Gangapur', 'Govindgarh', 'Gulabpura', 'Hanumangarh', 'Hindaun', 'Jahazpur', 'Jaipur', 'Jaisalmer', 'Jaitaran', 'Jalor', 'Jalore', 'Jhalawar', 'Jhalrapatan', 'Jhunjhunun', 'Jobner', 'Jodhpur', 'Kaman', 'Kanor', 'Kapren', 'Karanpur', 'Karauli', 'Kekri', 'Keshorai Patan', 'Khandela', 'Khanpur', 'Khetri', 'Kishangarh', 'Kota', 'Kotputli', 'Kuchaman', 'Kuchera', 'Kumher', 'Kushalgarh', 'Lachhmangarh Sikar', 'Ladnun', 'Lakheri', 'Lalsot', 'Losal', 'Mahwah', 'Makrana', 'Malpura', 'Mandal', 'Mandalgarh', 'Mandawar', 'Mangrol', 'Manohar Thana', 'Manoharpur', 'Meethari Marwar', 'Merta', 'Mundwa', 'Nadbai', 'Nagar', 'Nagaur', 'Nainwa', 'Napasar', 'Naraina', 'Nasirabad', 'Nathdwara', 'Nawa', 'Nawalgarh', 'Neem ka Thana', 'Nimaj', 'Nimbahera', 'Niwai', 'Nohar', 'Nokha', 'Padampur', 'Pali', 'Partapur', 'Parvatsar', 'Phalodi', 'Phulera', 'Pilani', 'Pilibangan', 'Pindwara', 'Pipar', 'Pirawa', 'Pokaran', 'Pratapgarh', 'Pushkar', 'Raipur', 'Raisinghnagar', 'Rajakhera', 'Rajaldesar', 'Rajgarh', 'Rajsamand', 'Ramganj Mandi', 'Ramgarh', 'Rani', 'Ratangarh', 'Rawatbhata', 'Rawatsar', 'Ringas', 'Sadri', 'Salumbar', 'Sambhar', 'Samdari', 'Sanchor', 'Sangaria', 'Sangod', 'Sardarshahr', 'Sarwar', 'Sawai Madhopur', 'Shahpura', 'Sheoganj', 'Sikar', 'Sirohi', 'Siwana', 'Sojat', 'Sri Dungargarh', 'Sri Madhopur', 'Sujangarh', 'Suket', 'Sunel', 'Surajgarh', 'Suratgarh', 'Takhatgarh', 'Taranagar', 'Tijara', 'Todabhim', 'Todaraisingh', 'Tonk', 'Udaipur', 'Udpura', 'Uniara', 'Wer', 'East District', 'Gangtok', 'Gyalshing', 'Jorethang', 'Mangan', 'Namchi', 'Naya Bazar', 'North District', 'Rangpo', 'Singtam', 'South District', 'West District', 'Abiramam', 'Adirampattinam', 'Aduthurai', 'Alagapuram', 'Alandur', 'Alanganallur', 'Alangayam', 'Alangudi', 'Alangulam', 'Alappakkam', 'Alwa Tirunagari', 'Ambasamudram', 'Ambattur', 'Ambur', 'Ammapettai', 'Anamalais', 'Andippatti', 'Annamalainagar', 'Annavasal', 'Annur', 'Anthiyur', 'Arakkonam', 'Arantangi', 'Arcot', 'Arimalam', 'Ariyalur', 'Arni', 'Arumbavur', 'Arumuganeri', 'Aruppukkottai', 'Aruvankad', 'Attayyampatti', 'Attur', 'Auroville', 'Avadi', 'Avinashi', 'Ayakudi', 'Ayyampettai', 'Belur', 'Bhavani', 'Bodinayakkanur', 'Chengam', 'Chennai', 'Chennimalai', 'Chetput', 'Chettipalaiyam', 'Cheyyar', 'Cheyyur', 'Chidambaram', 'Chingleput', 'Chinna Salem', 'Chinnamanur', 'Chinnasekkadu', 'Cholapuram', 'Coimbatore', 'Colachel', 'Cuddalore', 'Cumbum', 'Denkanikota', 'Desur', 'Devadanappatti', 'Devakottai', 'Dhali', 'Dharapuram', 'Dharmapuri', 'Dindigul', 'Dusi', 'Elayirampannai', 'Elumalai', 'Eral', 'Eraniel', 'Erode', 'Erumaippatti', 'Ettaiyapuram', 'Gandhi Nagar', 'Gangaikondan', 'Gangavalli', 'Gingee', 'Gobichettipalayam', 'Gudalur', 'Gudiyatham', 'Guduvancheri', 'Gummidipundi', 'Harur', 'Hosur', 'Idappadi', 'Ilampillai', 'Iluppur', 'Injambakkam', 'Irugur', 'Jalakandapuram', 'Jalarpet', 'Jayamkondacholapuram', 'Kadambur', 'Kadayanallur', 'Kalakkadu', 'Kalavai', 'Kallakkurichchi', 'Kallidaikurichi', 'Kallupatti', 'Kalugumalai', 'Kamuthi', 'Kanadukattan', 'Kancheepuram', 'Kanchipuram', 'Kangayam', 'Kanniyakumari', 'Karaikkudi', 'Karamadai', 'Karambakkudi', 'Kariapatti', 'Karumbakkam', 'Karur', 'Katpadi', 'Kattivakkam', 'Kattupputtur', 'Kaveripatnam', 'Kayalpattinam', 'Kayattar', 'Keelakarai', 'Kelamangalam', 'Kil Bhuvanagiri', 'Kilvelur', 'Kiranur', 'Kodaikanal', 'Kodumudi', 'Kombai', 'Konganapuram', 'Koothanallur', 'Koradachcheri', 'Korampallam', 'Kotagiri', 'Kottaiyur', 'Kovilpatti', 'Krishnagiri', 'Kulattur', 'Kulittalai', 'Kumaralingam', 'Kumbakonam', 'Kunnattur', 'Kurinjippadi', 'Kuttalam', 'Kuzhithurai', 'Lalgudi', 'Madambakkam', 'Madipakkam', 'Madukkarai', 'Madukkur', 'Madurai', 'Madurantakam', 'Mallapuram', 'Mallasamudram', 'Mallur', 'Manali', 'Manalurpettai', 'Manamadurai', 'Manappakkam', 'Manapparai', 'Manavalakurichi', 'Mandapam', 'Mangalam', 'Mannargudi', 'Marakkanam', 'Marandahalli', 'Masinigudi', 'Mattur', 'Mayiladuthurai', 'Melur', 'Mettuppalaiyam', 'Mettur', 'Minjur', 'Mohanur', 'Mudukulattur', 'Mulanur', 'Musiri', 'Muttupet', 'Naduvattam', 'Nagapattinam', 'Nagercoil', 'Namagiripettai', 'Namakkal', 'Nambiyur', 'Nambutalai', 'Nandambakkam', 'Nangavalli', 'Nangilickondan', 'Nanguneri', 'Nannilam', 'Naravarikuppam', 'Nattam', 'Nattarasankottai', 'Needamangalam', 'Neelankarai', 'Negapatam', 'Nellikkuppam', 'Nilakottai', 'Nilgiris', 'Odugattur', 'Omalur', 'Ooty', 'Padmanabhapuram', 'Palakkodu', 'Palamedu', 'Palani', 'Palavakkam', 'Palladam', 'Pallappatti', 'Pallattur', 'Pallavaram', 'Pallikondai', 'Pallipattu', 'Pallippatti', 'Panruti', 'Papanasam', 'Papireddippatti', 'Papparappatti', 'Paramagudi', 'Pattukkottai', 'Pennadam', 'Pennagaram', 'Pennathur', 'Peraiyur', 'Perambalur', 'Peranamallur', 'Peranampattu', 'Peravurani', 'Periyakulam', 'Periyanayakkanpalaiyam', 'Periyanegamam', 'Periyapatti', 'Periyapattinam', 'Perundurai', 'Perungudi', 'Perur', 'Pollachi', 'Polur', 'Ponnamaravati', 'Ponneri', 'Poonamalle', 'Porur', 'Pudukkottai', 'Puduppatti', 'Pudur', 'Puduvayal', 'Puliyangudi', 'Puliyur', 'Pullambadi', 'Punjai Puliyampatti', 'Rajapalaiyam', 'Ramanathapuram', 'Rameswaram', 'Ranipet', 'Rasipuram', 'Saint Thomas Mount', 'Salem', 'Sathankulam', 'Sathyamangalam', 'Sattur', 'Sayalkudi', 'Seven Pagodas', 'Sholinghur', 'Singanallur', 'Singapperumalkovil', 'Sirkazhi', 'Sirumugai', 'Sivaganga', 'Sivagiri', 'Sivakasi', 'Srimushnam', 'Sriperumbudur', 'Srivaikuntam', 'Srivilliputhur', 'Suchindram', 'Sulur', 'Surandai', 'Swamimalai', 'Tambaram', 'Tanjore', 'Taramangalam', 'Tattayyangarpettai', 'Thanjavur', 'Tharangambadi', 'Theni', 'Thenkasi', 'Thirukattupalli', 'Thiruthani', 'Thiruvaiyaru', 'Thiruvallur', 'Thiruvarur', 'Thiruvidaimaruthur', 'Thoothukudi', 'Tindivanam', 'Tinnanur', 'Tiruchchendur', 'Tiruchengode', 'Tiruchirappalli', 'Tirukkoyilur', 'Tirumullaivasal', 'Tirunelveli', 'Tirunelveli Kattabo', 'Tiruppalaikudi', 'Tirupparangunram', 'Tiruppur', 'Tiruppuvanam', 'Tiruttangal', 'Tiruvannamalai', 'Tiruvottiyur', 'Tisaiyanvilai', 'Tondi', 'Turaiyur', 'Udangudi', 'Udumalaippettai', 'Uppiliyapuram', 'Usilampatti', 'Uttamapalaiyam', 'Uttiramerur', 'Uttukkuli', 'V.S.K.Valasai (Dindigul-Dist.)', 'Vadakku Valliyur', 'Vadakku Viravanallur', 'Vadamadurai', 'Vadippatti', 'Valangaiman', 'Valavanur', 'Vallam', 'Valparai', 'Vandalur', 'Vandavasi', 'Vaniyambadi', 'Vasudevanallur', 'Vattalkundu', 'Vedaraniyam', 'Vedasandur', 'Velankanni', 'Vellanur', 'Vellore', 'Velur', 'Vengavasal', 'Vettaikkaranpudur', 'Vettavalam', 'Vijayapuri', 'Vikravandi', 'Vilattikulam', 'Villupuram', 'Viraganur', 'Virudhunagar', 'Vriddhachalam', 'Walajapet', 'Wallajahbad', 'Wellington', 'Adilabad', 'Alampur', 'Andol', 'Asifabad', 'Balapur', 'Banswada', 'Bellampalli', 'Bhadrachalam', 'Bhadradri Kothagudem', 'Bhaisa', 'Bhongir', 'Bodhan', 'Chandur', 'Chatakonda', 'Dasnapur', 'Devarkonda', 'Dornakal', 'Farrukhnagar', 'Gaddi Annaram', 'Gadwal', 'Ghatkesar', 'Gopalur', 'Gudur', 'Hyderabad', 'Jagtial', 'Jangaon', 'Jangoan', 'Jayashankar Bhupalapally', 'Jogulamba Gadwal', 'Kagaznagar', 'Kamareddi', 'Kamareddy', 'Karimnagar', 'Khammam', 'Kodar', 'Koratla', 'Kothapet', 'Kottagudem', 'Kottapalli', 'Kukatpalli', 'Kyathampalle', 'Lakshettipet', 'Lal Bahadur Nagar', 'Mahabubabad', 'Mahbubnagar', 'Malkajgiri', 'Mancheral', 'Mandamarri', 'Manthani', 'Manuguru', 'Medak', 'Medchal', 'Medchal Malkajgiri', 'Mirialguda', 'Nagar Karnul', 'Nalgonda', 'Narayanpet', 'Narsingi', 'Naspur', 'Nirmal', 'Nizamabad', 'Paloncha', 'Palwancha', 'Patancheru', 'Peddapalli', 'Quthbullapur', 'Rajanna Sircilla', 'Ramagundam', 'Ramgundam', 'Rangareddi', 'Sadaseopet', 'Sangareddi', 'Sathupalli', 'Secunderabad', 'Serilingampalle', 'Siddipet', 'Singapur', 'Sirpur', 'Sirsilla', 'Sriramnagar', 'Suriapet', 'Tandur', 'Uppal Kalan', 'Vemalwada', 'Vikarabad', 'Wanparti', 'Warangal', 'Yellandu', 'Zahirabad', 'Agartala', 'Amarpur', 'Ambasa', 'Barjala', 'Belonia', 'Dhalai', 'Dharmanagar', 'Gomati', 'Kailashahar', 'Kamalpur', 'Khowai', 'North Tripura', 'Ranir Bazar', 'Sabrum', 'Sonamura', 'South Tripura', 'Udaipur', 'Unakoti', 'West Tripura', 'Achhnera', 'Afzalgarh', 'Agra', 'Ahraura', 'Aidalpur', 'Airwa', 'Akbarpur', 'Akola', 'Aliganj', 'Aligarh', 'Allahabad', 'Allahganj', 'Amanpur', 'Amauli', 'Ambahta', 'Ambedkar Nagar', 'Amethi', 'Amroha', 'Anandnagar', 'Antu', 'Anupshahr', 'Aonla', 'Araul', 'Asalatganj', 'Atarra', 'Atrauli', 'Atraulia', 'Auraiya', 'Auras', 'Ayodhya', 'Azamgarh', 'Azizpur', 'Baberu', 'Babina', 'Babrala', 'Babugarh', 'Bachhraon', 'Bachhrawan', 'Baghpat', 'Baghra', 'Bah', 'Baheri', 'Bahjoi', 'Bahraich', 'Bahraigh', 'Bahsuma', 'Bahua', 'Bajna', 'Bakewar', 'Baksar', 'Balamau', 'Baldeo', 'Baldev', 'Ballia', 'Balrampur', 'Banat', 'Banbasa', 'Banda', 'Bangarmau', 'Bansdih', 'Bansgaon', 'Bansi', 'Banthra', 'Bara Banki', 'Baragaon', 'Baraut', 'Bareilly', 'Barhalganj', 'Barkhera', 'Barkhera Kalan', 'Barokhar', 'Barsana', 'Barwar (Lakhimpur Kheri)', 'Basti', 'Behat', 'Bela', 'Belthara', 'Beniganj', 'Beswan', 'Bewar', 'Bhadarsa', 'Bhadohi', 'Bhagwantnagar', 'Bharatpura', 'Bhargain', 'Bharthana', 'Bharwari', 'Bhaupur', 'Bhimtal', 'Bhinga', 'Bhognipur', 'Bhongaon', 'Bidhnu', 'Bidhuna', 'Bighapur', 'Bighapur Khurd', 'Bijnor', 'Bikapur', 'Bilari', 'Bilariaganj', 'Bilaspur', 'Bilgram', 'Bilhaur', 'Bilsanda', 'Bilsi', 'Bilthra', 'Binauli', 'Binaur', 'Bindki', 'Birdpur', 'Birpur', 'Bisalpur', 'Bisanda Buzurg', 'Bisauli', 'Bisenda Buzurg', 'Bishunpur Urf Maharajganj', 'Biswan', 'Bithur', 'Budaun', 'Budhana', 'Bulandshahr', 'Captainganj', 'Chail', 'Chakia', 'Chandauli', 'Chandauli District', 'Chandausi', 'Chandpur', 'Chanduasi', 'Charkhari', 'Charthawal', 'Chhaprauli', 'Chharra', 'Chhata', 'Chhibramau', 'Chhitauni', 'Chhutmalpur', 'Chillupar', 'Chirgaon', 'Chitrakoot', 'Chitrakoot Dham', 'Chopan', 'Chunar', 'Churk', 'Colonelganj', 'Dadri', 'Dalmau', 'Dankaur', 'Daraganj', 'Daranagar', 'Dasna', 'Dataganj', 'Daurala', 'Dayal Bagh', 'Deoband', 'Deogarh', 'Deoranian', 'Deoria', 'Derapur', 'Dewa', 'Dhampur', 'Dhanaura', 'Dhanghata', 'Dharau', 'Dhaurahra', 'Dibai', 'Divrasai', 'Dohrighat', 'Domariaganj', 'Dostpur', 'Dudhi', 'Etah', 'Etawah', 'Etmadpur', 'Faizabad', 'Farah', 'Faridnagar', 'Faridpur', 'Farrukhabad', 'Fatehabad', 'Fatehganj West', 'Fatehgarh', 'Fatehpur', 'Fatehpur (Barabanki)', 'Fatehpur Chaurasi', 'Fatehpur Sikri', 'Firozabad', 'Fyzabad', 'Gahlon', 'Gahmar', 'Gaini', 'Gajraula', 'Gangoh', 'Ganj Dundawara', 'Ganj Dundwara', 'Ganj Muradabad', 'Garautha', 'Garhi Pukhta', 'Garhmuktesar', 'Garhwa', 'Gauriganj', 'Gautam Buddha Nagar', 'Gawan', 'Ghatampur', 'Ghaziabad', 'Ghazipur', 'Ghiror', 'Ghorawal', 'Ghosi', 'Gohand', 'Gokul', 'Gola Bazar', 'Gola Gokarannath', 'Gonda', 'Gonda (Aligarh)', 'Gonda City', 'Gopamau', 'Gorakhpur', 'Gosainganj', 'Goshainganj', 'Govardhan', 'Greater Noida', 'Gulaothi', 'Gunnaur', 'Gursahaiganj', 'Gursarai', 'Gyanpur', 'Haldaur', 'Hamirpur', 'Handia', 'Hapur', 'Haraipur', 'Haraiya', 'Harchandpur', 'Hardoi', 'Harduaganj', 'Hasanpur', 'Hastinapur', 'Hata', 'Hata (India)', 'Hathras', 'Hulas', 'Ibrahimpur', 'Iglas', 'Ikauna', 'Indergarh', 'Indragarh', 'Islamnagar', 'Islamnagar (Badaun)', 'Itaunja', 'Itimadpur', 'Jagdishpur', 'Jagnair', 'Jahanabad', 'Jahanabad (Pilibhit)', 'Jahangirabad', 'Jahangirpur', 'Jainpur', 'Jais', 'Jalalabad', 'Jalali', 'Jalalpur', 'Jalaun', 'Jalesar', 'Janghai', 'Jansath', 'Jarwa', 'Jarwal', 'Jasrana', 'Jaswantnagar', 'Jaunpur', 'Jewar', 'Jhajhar', 'Jhalu', 'Jhansi', 'Jhinjhak', 'Jhinjhana', 'Jhusi', 'Jiyanpur', 'Jyotiba Phule Nagar', 'Kabrai', 'Kachhwa', 'Kadaura', 'Kadipur', 'Kagarol', 'Kaimganj', 'Kairana', 'Kakori', 'Kakrala', 'Kalinagar', 'Kalpi', 'Kalyanpur', 'Kamalganj', 'Kampil', 'Kandhla', 'Kannauj', 'Kanpur', 'Kanpur Dehat', 'Kant', 'Kanth', 'Kaptanganj', 'Kara', 'Karari', 'Karbigwan', 'Karchana', 'Karhal', 'Kasganj', 'Katra', 'Kausani', 'Kaushambi District', 'Kemri', 'Khada', 'Khaga', 'Khailar', 'Khair', 'Khairabad', 'Khalilabad', 'Khanpur', 'Kharela', 'Khargupur', 'Kharkhauda', 'Khatauli', 'Khekra', 'Kheri', 'Khudaganj', 'Khurja', 'Khutar', 'Kirakat', 'Kiraoli', 'Kiratpur', 'Kishanpur', 'Kishanpur baral', 'Kishni', 'Kithor', 'Konch', 'Kopaganj', 'Kosi', 'Kota', 'Kotra', 'Kuchesar', 'Kudarkot', 'Kulpahar', 'Kunda', 'Kundarkhi', 'Kundarki', 'Kurara', 'Kurebhar,saidkhanpur', 'Kushinagar', 'Kusmara', 'Kuthaund', 'Laharpur', 'Lakhimpur', 'Lakhna', 'Lalganj', 'Lalitpur', 'Lambhua', 'Lar', 'Lawar', 'Lawar Khas', 'Loni', 'Lucknow', 'Lucknow District', 'Machhali Shahar', 'Machhlishahr', 'Madhoganj', 'Madhogarh', 'Maghar', 'Mahaban', 'Maharajganj', 'Mahmudabad', 'Mahoba', 'Maholi', 'Mahrajganj', 'Mahrajganj (Raebareli)', 'Mahroni', 'Mahul', 'Mailani', 'Mainpuri', 'Majhupur', 'Makanpur', 'Malasa', 'Malihabad', 'Mandawar', 'Maniar', 'Manikpur', 'Manjhanpur', 'Mankapur', 'Marahra', 'Mariahu', 'Mataundh', 'Mathura', 'Mau', 'Mau Aima', 'Mau Aimma', 'Maudaha', 'Mauranwan', 'Maurawan', 'Mawana', 'Mawar', 'Meerut', 'Mehdawal', 'Mehnagar', 'Mehndawal', 'Milak', 'Milkipur', 'Miranpur', 'Miranpur Katra', 'Mirganj', 'Mirzapur', 'Misrikh', 'Mohan', 'Mohanpur', 'Moradabad', 'Moth', 'Mubarakpur', 'Mughal Sarai', 'Muhammadabad', 'Mukteshwar', 'Mungra Badshahpur', 'Munsyari', 'Muradabad', 'Muradnagar', 'Mursan', 'Musafir-Khana', 'Musafirkhana', 'Muzaffarnagar', 'Nadigaon', 'Nagina', 'Nagla', 'Nagram', 'Najibabad', 'Nakur', 'Nanauta', 'Nandgaon', 'Nanpara', 'Narauli', 'Naraura', 'Narora', 'Naugama', 'Naurangpur', 'Nautanwa', 'Nawabganj', 'Nawabganj (Barabanki)', 'Nawabganj (Bareilly)', 'Newara', 'Nichlaul', 'Nigoh', 'Nihtaur', 'Niwari', 'Nizamabad', 'Noida', 'Nurpur', 'Obra', 'Orai', 'Oran', 'Pachperwa', 'Padrauna', 'Pahasu', 'Paigaon', 'Pali', 'Palia Kalan', 'Paras Rampur', 'Parichha', 'Parichhatgarh', 'Parshadepur', 'Pathakpura', 'Patiali', 'Patti', 'Pawayan', 'Payagpur', 'Phalauda', 'Phaphamau', 'Phaphund', 'Phariha', 'Pheona', 'Phulpur', 'Pichhaura', 'Pihani', 'Pilibhit', 'Pilkhua', 'Pilkhuwa', 'Pinahat', 'Pipraich', 'Pipri', 'Pratapgarh', 'Prayagraj (Allahabad)', 'Pukhrayan', 'Puranpur', 'Purmafi', 'Purwa', 'Qadirganj', 'Rabupura', 'Radha Kund', 'Radhakund', 'Raebareli', 'Rajapur', 'Ramkola', 'Ramnagar', 'Rampur', 'Rampura', 'Ranipur', 'Ranipur Barsi', 'Rasra', 'Rasulabad', 'Rath', 'Raya', 'Rehar', 'Renukoot', 'Renukut', 'Reoti', 'Reotipur', 'Richha', 'Robertsganj', 'Rudarpur', 'Rudauli', 'Rura', 'Sabalpur', 'Sachendi', 'Sadabad', 'Sadat', 'Safipur', 'Saharanpur', 'Sahaspur', 'Sahaswan', 'Sahawar', 'Sahibabad', 'Sahpau', 'Saidpur', 'Sakhanu', 'Sakit', 'Salempur', 'Salon', 'Sambhal', 'Samthar', 'Sandi', 'Sandila', 'Sant Kabir Nagar', 'Sant Ravi Das Nagar', 'Sarai Akil', 'Sarai Ekdil', 'Sarai Mir', 'Sarauli', 'Sardhana', 'Sarila', 'Sarurpur', 'Sasni', 'Satrikh', 'Saurikh', 'Sector', 'Seohara', 'Shahabad', 'Shahganj', 'Shahi', 'Shahjahanpur', 'Shahpur', 'Shamli', 'Shamsabad', 'Shankargarh', 'Shergarh', 'Sherkot', 'Shibnagar', 'Shikarpur', 'Shikarpur (Bulandshahr)', 'Shikohabad', 'Shishgarh', 'Shivrajpur', 'Shrawasti', 'Siddharthnagar', 'Siddhaur', 'Sidhauli', 'Sidhpura', 'Sikandarabad', 'Sikandarpur', 'Sikandra', 'Sikandra Rao', 'Sikandrabad', 'Sirathu', 'Sirsa', 'Sirsaganj', 'Sirsi', 'Sisauli', 'Siswa Bazar', 'Sitapur', 'Sonbhadra', 'Soron', 'Suar', 'Sultanpur', 'Surianwan', 'Tajpur', 'Talbahat', 'Talgram', 'Tanda', 'Terha', 'Thakurdwara', 'Thana Bhawan', 'Tigri', 'Tikaitnagar', 'Tikri', 'Tilhar', 'Tilsahri', 'Tindwari', 'Titron', 'Tori Fatehpur', 'Tori-Fatehpur', 'Tulsipur', 'Tundla', 'Ugu', 'Ujhani', 'Umri', 'Un', 'Unnao', 'Usawan', 'Usehat', 'Uska', 'Utraula', 'Varanasi', 'Vindhyachal', 'Vrindavan', 'Walterganj', 'Wazirganj', 'Yusufpur', 'Zafarabad', 'Zaidpur', 'Zamania', 'Almora', 'Bageshwar', 'Barkot', 'Bazpur', 'Bhim Tal', 'Bhowali', 'Birbhaddar', 'Chakrata', 'Chamoli', 'Champawat', 'Clement Town', 'Dehradun', 'Devaprayag', 'Dharchula', 'Doiwala', 'Dugadda', 'Dwarahat', 'Garhwal', 'Haldwani', 'Harbatpur', 'Haridwar', 'Jaspur', 'Joshimath', 'Kaladhungi', 'Kalagarh Project Colony', 'Kashipur', 'Khatima', 'Kichha', 'Kotdwara', 'Laksar', 'Lansdowne', 'Lohaghat', 'Manglaur', 'Mussoorie', 'Naini Tal', 'Narendranagar', 'Pauri', 'Pipalkoti', 'Pithoragarh', 'Raipur', 'Raiwala Bara', 'Ramnagar', 'Ranikhet', 'Rishikesh', 'Roorkee', 'Rudraprayag', 'Sitarganj', 'Srinagar', 'Sultanpur', 'Tanakpur', 'Tehri', 'Tehri-Garhwal', 'Udham Singh Nagar', 'Uttarkashi', 'Vikasnagar', 'Ahmedpur', 'Aistala', 'Aknapur', 'Alipurduar', 'Amlagora', 'Amta', 'Amtala', 'Andal', 'Arambagh community development block', 'Asansol', 'Ashoknagar Kalyangarh', 'Badkulla', 'Baduria', 'Bagdogra', 'Bagnan', 'Bagula', 'Bahula', 'Baidyabati', 'Bakreswar', 'Balarampur', 'Bali Chak', 'Bally', 'Balurghat', 'Bamangola community development block', 'Baneswar', 'Bangaon', 'Bankra', 'Bankura', 'Bansberia', 'Bansihari community development block', 'Barabazar', 'Baranagar', 'Barasat', 'Bardhaman', 'Barjora', 'Barrackpore', 'Baruipur', 'Basanti', 'Basirhat', 'Bawali', 'Begampur', 'Belda', 'Beldanga', 'Beliatore', 'Berhampore', 'Bhadreswar', 'Bhandardaha', 'Bhatpara', 'Birbhum district', 'Birpara', 'Bishnupur', 'Bolpur', 'Budge Budge', 'Canning', 'Chakapara', 'Chakdaha', 'Champadanga', 'Champahati', 'Champdani', 'Chandannagar', 'Chandrakona', 'Chittaranjan', 'Churulia', 'Contai', 'Cooch Behar', 'Cossimbazar', 'Dakshin Dinajpur district', 'Dalkola', 'Dam Dam', 'Darjeeling', 'Daulatpur', 'Debagram', 'Debipur', 'Dhaniakhali community development block', 'Dhulagari', 'Dhulian', 'Dhupguri', 'Diamond Harbour', 'Digha', 'Dinhata', 'Domjur', 'Dubrajpur', 'Durgapur', 'Egra', 'Falakata', 'Farakka', 'Fort Gloster', 'Gaighata community development block', 'Gairkata', 'Gangadharpur', 'Gangarampur', 'Garui', 'Garulia', 'Ghatal', 'Giria', 'Gobardanga', 'Gobindapur', 'Gopalpur', 'Gopinathpur', 'Gorubathan', 'Gosaba', 'Gosanimari', 'Gurdaha', 'Guskhara', 'Habra', 'Haldia', 'Haldibari', 'Halisahar', 'Harindanga', 'Haringhata', 'Haripur', 'Hasimara', 'Hindusthan Cables Town', 'Hooghly district', 'Howrah', 'Ichapur', 'Indpur community development block', 'Ingraj Bazar', 'Islampur', 'Jafarpur', 'Jaigaon', 'Jalpaiguri', 'Jamuria', 'Jangipur', 'Jaynagar Majilpur', 'Jejur', 'Jhalida', 'Jhargram', 'Jhilimili', 'Kakdwip', 'Kalaikunda', 'Kaliaganj', 'Kalimpong', 'Kalna', 'Kalyani', 'Kamarhati', 'Kamarpukur', 'Kanchrapara', 'Kandi', 'Karimpur', 'Katwa', 'Kenda', 'Keshabpur', 'Kharagpur', 'Kharar', 'Kharba', 'Khardaha', 'Khatra', 'Kirnahar', 'Kolkata', 'Konnagar', 'Krishnanagar', 'Krishnapur', 'Kshirpai', 'Kulpi', 'Kultali', 'Kulti', 'Kurseong', 'Lalgarh', 'Lalgola', 'Loyabad', 'Madanpur', 'Madhyamgram', 'Mahiari', 'Mahishadal community development block', 'Mainaguri', 'Manikpara', 'Masila', 'Mathabhanga', 'Matiali community development block', 'Matigara community development block', 'Medinipur', 'Mejia community development block', 'Memari', 'Mirik', 'Mohanpur community development block', 'Monoharpur', 'Muragacha', 'Muri', 'Murshidabad', 'Nabadwip', 'Nabagram', 'Nadia district', 'Nagarukhra', 'Nagrakata', 'Naihati', 'Naksalbari', 'Nalhati', 'Nalpur', 'Namkhana community development block', 'Nandigram', 'Nangi', 'Nayagram community development block', 'North 24 Parganas district', 'Odlabari', 'Paikpara', 'Panagarh', 'Panchla', 'Panchmura', 'Pandua', 'Panihati', 'Panskura', 'Parbatipur', 'Paschim Medinipur district', 'Patiram', 'Patrasaer', 'Patuli', 'Pujali', 'Puncha community development block', 'Purba Medinipur district', 'Purulia', 'Raghudebbati', 'Raghunathpur', 'Raiganj', 'Rajmahal', 'Rajnagar community development block', 'Ramchandrapur', 'Ramjibanpur', 'Ramnagar', 'Rampur Hat', 'Ranaghat', 'Raniganj', 'Raypur', 'Rishra', 'Sahapur', 'Sainthia', 'Salanpur community development block', 'Sankarpur', 'Sankrail', 'Santipur', 'Santoshpur', 'Santuri community development block', 'Sarenga', 'Serampore', 'Serpur', 'Shyamnagar, West Bengal', 'Siliguri', 'Singur', 'Sodpur', 'Solap', 'Sonada', 'Sonamukhi', 'Sonarpur community development block', 'South 24 Parganas district', 'Srikhanda', 'Srirampur', 'Suri', 'Swarupnagar community development block', 'Takdah', 'Taki', 'Tamluk', 'Tarakeswar', 'Titagarh', 'Tufanganj', 'Tulin', 'Uchalan', 'Ula', 'Uluberia', 'Uttar Dinajpur district', 'Uttarpara Kotrung', 'Andhra Pradesh', 'Arunachal Pradesh', 'Assam', 'Bihar', 'Chhattisgarh', 'Goa', 'Gujarat', 'Haryana', 'Himachal Pradesh', 'Jharkhand', 'Karnataka', 'Kerala', 'Madhya Pradesh', 'Maharashtra', 'Manipur', 'Meghalaya', 'Mizoram', 'Nagaland', 'Odisha', 'Punjab', 'Rajasthan', 'Sikkim', 'Tamil Nadu', 'Telangana', 'Tripura', 'Uttar Pradesh', 'Uttarakhand', 'West Bengal', 'Andaman and Nicobar Islands', 'Chandigarh', 'Dadra and Nagar Haveli and Daman and Diu', 'Delhi', 'Jammu and Kashmir', 'Ladakh', 'Lakshadweep', 'Puducherry']\n"
     ]
    }
   ],
   "source": [
    "print(new_patt)"
   ]
  },
  {
   "cell_type": "code",
   "execution_count": 40,
   "id": "f4975e47-2d71-4710-86f6-d22f1b49c73b",
   "metadata": {},
   "outputs": [
    {
     "name": "stdout",
     "output_type": "stream",
     "text": [
      "Defaulting to user installation because normal site-packages is not writeable\n",
      "Collecting rapidfuzz\n",
      "  Downloading rapidfuzz-3.13.0-cp312-cp312-win_amd64.whl.metadata (12 kB)\n",
      "Downloading rapidfuzz-3.13.0-cp312-cp312-win_amd64.whl (1.6 MB)\n",
      "   ---------------------------------------- 0.0/1.6 MB ? eta -:--:--\n",
      "   ------------------------- -------------- 1.0/1.6 MB 5.6 MB/s eta 0:00:01\n",
      "   ---------------------------------------- 1.6/1.6 MB 4.3 MB/s eta 0:00:00\n",
      "Installing collected packages: rapidfuzz\n",
      "Successfully installed rapidfuzz-3.13.0\n",
      "Note: you may need to restart the kernel to use updated packages.\n"
     ]
    },
    {
     "name": "stderr",
     "output_type": "stream",
     "text": [
      "\n",
      "[notice] A new release of pip is available: 24.3.1 -> 25.2\n",
      "[notice] To update, run: python.exe -m pip install --upgrade pip\n"
     ]
    }
   ],
   "source": [
    "pip install rapidfuzz"
   ]
  },
  {
   "cell_type": "code",
   "execution_count": 45,
   "id": "90ed709d-3953-4e72-b28d-e6ec14235311",
   "metadata": {},
   "outputs": [],
   "source": [
    "from rapidfuzz import process,fuzz"
   ]
  },
  {
   "cell_type": "raw",
   "id": "05516e7c-6027-45e9-8863-0169b81735c4",
   "metadata": {},
   "source": []
  },
  {
   "cell_type": "code",
   "execution_count": 54,
   "id": "d80888d3-31c1-470a-a695-b29ec50b962a",
   "metadata": {},
   "outputs": [],
   "source": [
    "user_input = \"whitefield\"\n",
    "matches = process.extract(user_input ,new_patt,limit = 3,scorer=fuzz.WRatio)\n"
   ]
  },
  {
   "cell_type": "code",
   "execution_count": 55,
   "id": "c6e4f318-a77e-418b-82c3-e5e0063c7537",
   "metadata": {},
   "outputs": [
    {
     "name": "stdout",
     "output_type": "stream",
     "text": [
      "Vite 67.5\n",
      "Belda 67.5\n",
      "Petlad 60.00000000000001\n"
     ]
    }
   ],
   "source": [
    "for match, score, _ in matches:\n",
    "    print(match, score)"
   ]
  },
  {
   "cell_type": "code",
   "execution_count": null,
   "id": "ac22fd56-a0df-4833-a3e9-97bc9c8666d4",
   "metadata": {},
   "outputs": [],
   "source": []
  }
 ],
 "metadata": {
  "kernelspec": {
   "display_name": "Python 3 (ipykernel)",
   "language": "python",
   "name": "python3"
  },
  "language_info": {
   "codemirror_mode": {
    "name": "ipython",
    "version": 3
   },
   "file_extension": ".py",
   "mimetype": "text/x-python",
   "name": "python",
   "nbconvert_exporter": "python",
   "pygments_lexer": "ipython3",
   "version": "3.12.5"
  }
 },
 "nbformat": 4,
 "nbformat_minor": 5
}
