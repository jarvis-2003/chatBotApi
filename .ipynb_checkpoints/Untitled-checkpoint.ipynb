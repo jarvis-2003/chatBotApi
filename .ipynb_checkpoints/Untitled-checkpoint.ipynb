{
 "cells": [
  {
   "cell_type": "code",
   "execution_count": 18,
   "id": "b1394334-3838-4665-bb8e-4b10d38c921a",
   "metadata": {},
   "outputs": [],
   "source": [
    "import spacy\n",
    "import pandas as pd"
   ]
  },
  {
   "cell_type": "code",
   "execution_count": 19,
   "id": "83d1dc94-6bc1-447f-93c4-33d7afaf04d9",
   "metadata": {},
   "outputs": [],
   "source": [
    "df = pd.read_csv(\"Indian Cities Geo Data.csv\")"
   ]
  },
  {
   "cell_type": "code",
   "execution_count": 28,
   "id": "80e39d77-32bb-44b5-b494-8eaa85a304e3",
   "metadata": {},
   "outputs": [],
   "source": [
    "df[\"Location_cleaned\"] = df[\"Location\"].str.replace(\" Latitude and Longitude\", \"\", regex=False)"
   ]
  },
  {
   "cell_type": "code",
   "execution_count": 30,
   "id": "8877d70c-9f60-4552-a39a-04a4330e1124",
   "metadata": {},
   "outputs": [],
   "source": [
    "df[\"Location_cleaned\"] = df[\"Location_cleaned\"].str.strip()"
   ]
  },
  {
   "cell_type": "code",
   "execution_count": 36,
   "id": "5e11a706-9acd-4d4d-882f-7e36da89e51d",
   "metadata": {},
   "outputs": [
    {
     "data": {
      "text/html": [
       "<div>\n",
       "<style scoped>\n",
       "    .dataframe tbody tr th:only-of-type {\n",
       "        vertical-align: middle;\n",
       "    }\n",
       "\n",
       "    .dataframe tbody tr th {\n",
       "        vertical-align: top;\n",
       "    }\n",
       "\n",
       "    .dataframe thead th {\n",
       "        text-align: right;\n",
       "    }\n",
       "</style>\n",
       "<table border=\"1\" class=\"dataframe\">\n",
       "  <thead>\n",
       "    <tr style=\"text-align: right;\">\n",
       "      <th></th>\n",
       "      <th>State</th>\n",
       "      <th>Location</th>\n",
       "      <th>Latitude</th>\n",
       "      <th>Longitude</th>\n",
       "      <th>Location_cleaned</th>\n",
       "    </tr>\n",
       "  </thead>\n",
       "  <tbody>\n",
       "    <tr>\n",
       "      <th>0</th>\n",
       "      <td>Andaman and Nicobar Islands</td>\n",
       "      <td>Bamboo Flat Latitude and Longitude</td>\n",
       "      <td>11.70000</td>\n",
       "      <td>92.71667</td>\n",
       "      <td>Bamboo Flat</td>\n",
       "    </tr>\n",
       "    <tr>\n",
       "      <th>1</th>\n",
       "      <td>Andaman and Nicobar Islands</td>\n",
       "      <td>Nicobar Latitude and Longitude</td>\n",
       "      <td>7.03002</td>\n",
       "      <td>93.79028</td>\n",
       "      <td>Nicobar</td>\n",
       "    </tr>\n",
       "    <tr>\n",
       "      <th>2</th>\n",
       "      <td>Andaman and Nicobar Islands</td>\n",
       "      <td>Port Blair Latitude and Longitude</td>\n",
       "      <td>11.66613</td>\n",
       "      <td>92.74635</td>\n",
       "      <td>Port Blair</td>\n",
       "    </tr>\n",
       "    <tr>\n",
       "      <th>3</th>\n",
       "      <td>Andaman and Nicobar Islands</td>\n",
       "      <td>South Andaman Latitude and Longitude</td>\n",
       "      <td>10.75776</td>\n",
       "      <td>92.52136</td>\n",
       "      <td>South Andaman</td>\n",
       "    </tr>\n",
       "    <tr>\n",
       "      <th>4</th>\n",
       "      <td>Andhra Pradesh</td>\n",
       "      <td>Addanki Latitude and Longitude</td>\n",
       "      <td>15.81061</td>\n",
       "      <td>79.97338</td>\n",
       "      <td>Addanki</td>\n",
       "    </tr>\n",
       "    <tr>\n",
       "      <th>...</th>\n",
       "      <td>...</td>\n",
       "      <td>...</td>\n",
       "      <td>...</td>\n",
       "      <td>...</td>\n",
       "      <td>...</td>\n",
       "    </tr>\n",
       "    <tr>\n",
       "      <th>4226</th>\n",
       "      <td>West Bengal</td>\n",
       "      <td>Uchalan Latitude and Longitude</td>\n",
       "      <td>23.03330</td>\n",
       "      <td>87.78330</td>\n",
       "      <td>Uchalan</td>\n",
       "    </tr>\n",
       "    <tr>\n",
       "      <th>4227</th>\n",
       "      <td>West Bengal</td>\n",
       "      <td>Ula Latitude and Longitude</td>\n",
       "      <td>22.72250</td>\n",
       "      <td>88.55556</td>\n",
       "      <td>Ula</td>\n",
       "    </tr>\n",
       "    <tr>\n",
       "      <th>4228</th>\n",
       "      <td>West Bengal</td>\n",
       "      <td>Uluberia Latitude and Longitude</td>\n",
       "      <td>22.47000</td>\n",
       "      <td>88.11000</td>\n",
       "      <td>Uluberia</td>\n",
       "    </tr>\n",
       "    <tr>\n",
       "      <th>4229</th>\n",
       "      <td>West Bengal</td>\n",
       "      <td>Uttar Dinajpur district Latitude and Longitude</td>\n",
       "      <td>25.62000</td>\n",
       "      <td>88.12000</td>\n",
       "      <td>Uttar Dinajpur district</td>\n",
       "    </tr>\n",
       "    <tr>\n",
       "      <th>4230</th>\n",
       "      <td>West Bengal</td>\n",
       "      <td>Uttarpara Kotrung Latitude and Longitude</td>\n",
       "      <td>22.67000</td>\n",
       "      <td>88.35000</td>\n",
       "      <td>Uttarpara Kotrung</td>\n",
       "    </tr>\n",
       "  </tbody>\n",
       "</table>\n",
       "<p>4231 rows × 5 columns</p>\n",
       "</div>"
      ],
      "text/plain": [
       "                            State  \\\n",
       "0     Andaman and Nicobar Islands   \n",
       "1     Andaman and Nicobar Islands   \n",
       "2     Andaman and Nicobar Islands   \n",
       "3     Andaman and Nicobar Islands   \n",
       "4                  Andhra Pradesh   \n",
       "...                           ...   \n",
       "4226                  West Bengal   \n",
       "4227                  West Bengal   \n",
       "4228                  West Bengal   \n",
       "4229                  West Bengal   \n",
       "4230                  West Bengal   \n",
       "\n",
       "                                            Location  Latitude  Longitude  \\\n",
       "0                 Bamboo Flat Latitude and Longitude  11.70000   92.71667   \n",
       "1                     Nicobar Latitude and Longitude   7.03002   93.79028   \n",
       "2                  Port Blair Latitude and Longitude  11.66613   92.74635   \n",
       "3               South Andaman Latitude and Longitude  10.75776   92.52136   \n",
       "4                     Addanki Latitude and Longitude  15.81061   79.97338   \n",
       "...                                              ...       ...        ...   \n",
       "4226                  Uchalan Latitude and Longitude  23.03330   87.78330   \n",
       "4227                      Ula Latitude and Longitude  22.72250   88.55556   \n",
       "4228                 Uluberia Latitude and Longitude  22.47000   88.11000   \n",
       "4229  Uttar Dinajpur district Latitude and Longitude  25.62000   88.12000   \n",
       "4230        Uttarpara Kotrung Latitude and Longitude  22.67000   88.35000   \n",
       "\n",
       "             Location_cleaned  \n",
       "0                 Bamboo Flat  \n",
       "1                     Nicobar  \n",
       "2                  Port Blair  \n",
       "3               South Andaman  \n",
       "4                     Addanki  \n",
       "...                       ...  \n",
       "4226                  Uchalan  \n",
       "4227                      Ula  \n",
       "4228                 Uluberia  \n",
       "4229  Uttar Dinajpur district  \n",
       "4230        Uttarpara Kotrung  \n",
       "\n",
       "[4231 rows x 5 columns]"
      ]
     },
     "execution_count": 36,
     "metadata": {},
     "output_type": "execute_result"
    }
   ],
   "source": [
    "patterns = []\n",
    "for x in df[\"Location_cleaned\"]:\n",
    "    patterns."
   ]
  },
  {
   "cell_type": "code",
   "execution_count": 2,
   "id": "e3487ba6-907d-48af-be80-d71d2b767b1a",
   "metadata": {},
   "outputs": [],
   "source": [
    "nlp = spacy.load(\"en_core_web_sm\")\n"
   ]
  },
  {
   "cell_type": "code",
   "execution_count": 16,
   "id": "63da752e-796e-401a-8b08-b167705acf08",
   "metadata": {},
   "outputs": [],
   "source": [
    "doc = nlp(\"bhubaneswar\")"
   ]
  },
  {
   "cell_type": "code",
   "execution_count": 17,
   "id": "cf79f722-5346-48c2-a69c-8b7df0505b76",
   "metadata": {},
   "outputs": [],
   "source": [
    "for x in doc.ents:\n",
    "    print(x.text , x.label_)"
   ]
  },
  {
   "cell_type": "code",
   "execution_count": null,
   "id": "82357a49-ecb6-4491-8e38-19884a3d71dc",
   "metadata": {},
   "outputs": [],
   "source": []
  }
 ],
 "metadata": {
  "kernelspec": {
   "display_name": "Python 3 (ipykernel)",
   "language": "python",
   "name": "python3"
  },
  "language_info": {
   "codemirror_mode": {
    "name": "ipython",
    "version": 3
   },
   "file_extension": ".py",
   "mimetype": "text/x-python",
   "name": "python",
   "nbconvert_exporter": "python",
   "pygments_lexer": "ipython3",
   "version": "3.12.5"
  }
 },
 "nbformat": 4,
 "nbformat_minor": 5
}
